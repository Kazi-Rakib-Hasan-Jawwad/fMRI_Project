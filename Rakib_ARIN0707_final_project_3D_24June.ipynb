{
  "cells": [
    {
      "cell_type": "markdown",
      "metadata": {
        "id": "view-in-github",
        "colab_type": "text"
      },
      "source": [
        "<a href=\"https://colab.research.google.com/github/Kazi-Rakib-Hasan-Jawwad/fMRI_Project/blob/main/Rakib_ARIN0707_final_project_3D_24June.ipynb\" target=\"_parent\"><img src=\"https://colab.research.google.com/assets/colab-badge.svg\" alt=\"Open In Colab\"/></a>"
      ]
    },
    {
      "cell_type": "markdown",
      "metadata": {
        "id": "_Ph4aDDpcKcv"
      },
      "source": [
        "#**Change the Colab setting as below before running** <br>\n",
        "**Runtime --> Change Runtime Type --> Hardware accelerator: T4 GPU**"
      ]
    },
    {
      "cell_type": "markdown",
      "metadata": {
        "id": "MD7WImCp-MMc"
      },
      "source": [
        "\n",
        "Lightweight 3‑D Vision Transformer + Masked‑Autoencoder (MAE) for fMRI\n",
        "=====================================================================\n",
        "Clean Colab‑ready script that:\n",
        "• Loads the HCP_emotion_4D_sample.mat set (pre‑split 3200/800)\n",
        "• Self‑supervised MAE pre‑trains a ViT encoder on 3‑D patches\n",
        "• Fine‑tunes the encoder for binary Face vs Shape classification\n",
        "\n",
        "Author: Kazi Rakib Hasan\n",
        "\n",
        "Licence: CC BY-NC 4.0\n"
      ]
    },
    {
      "cell_type": "code",
      "execution_count": null,
      "metadata": {
        "id": "xjQ0s9zx5pOi"
      },
      "outputs": [],
      "source": [
        "import os, sys, math, random\n",
        "import numpy as np\n",
        "import torch, torch.nn as nn, torch.nn.functional as F\n",
        "from torch.utils.data import Dataset, DataLoader\n",
        "import torch.optim as optim\n",
        "from torch.cuda.amp import autocast, GradScaler\n",
        "import matplotlib.pyplot as plt\n",
        "from scipy.io import loadmat\n",
        "from tqdm import tqdm"
      ]
    },
    {
      "cell_type": "code",
      "execution_count": null,
      "metadata": {
        "colab": {
          "base_uri": "https://localhost:8080/"
        },
        "id": "Vow7_DVt5quq",
        "outputId": "d2b472af-4a75-4674-87df-3d0e633dbcc3"
      },
      "outputs": [
        {
          "output_type": "stream",
          "name": "stdout",
          "text": [
            "Using device: cuda\n"
          ]
        }
      ],
      "source": [
        "# ----------------------------------------------------\n",
        "# 1. Setup and Configuration\n",
        "# ----------------------------------------------------\n",
        "SEED = 42\n",
        "random.seed(SEED)\n",
        "np.random.seed(SEED)\n",
        "torch.manual_seed(SEED)\n",
        "torch.cuda.manual_seed_all(SEED)\n",
        "os.environ[\"CUDA_VISIBLE_DEVICES\"] = \"0\"\n",
        "device = torch.device('cuda' if torch.cuda.is_available() else 'cpu')\n",
        "print(f\"Using device: {device}\")"
      ]
    },
    {
      "cell_type": "code",
      "execution_count": null,
      "metadata": {
        "colab": {
          "base_uri": "https://localhost:8080/"
        },
        "id": "m6LA1glGke1c",
        "outputId": "5ae8c74f-9a6c-444e-c6bd-c6337eae9846"
      },
      "outputs": [
        {
          "output_type": "stream",
          "name": "stdout",
          "text": [
            "Mounted at /content/drive\n",
            "Project root: /content/drive/My Drive/ARIN0707_project\n",
            "/content/drive/My Drive/ARIN0707_project\n"
          ]
        }
      ],
      "source": [
        "# Mount Google drive\n",
        "\n",
        "from google.colab import drive\n",
        "\n",
        "drive.mount('/content/drive')\n",
        "gdrive_dir = 'ARIN0707_project'\n",
        "\n",
        "if not os.path.exists('/content/drive/My Drive/' + gdrive_dir):\n",
        "  os.makedirs('/content/drive/My Drive/' + gdrive_dir)\n",
        "\n",
        "os.chdir('/content/drive/My Drive/' + gdrive_dir)\n",
        "\n",
        "data_path = '/content/drive/My Drive/' + gdrive_dir\n",
        "\n",
        "ROOT = '/content/drive/My Drive/' + gdrive_dir\n",
        "os.chdir(ROOT)\n",
        "\n",
        "print(f\"Project root: {ROOT}\")\n",
        "\n",
        "# Always‑valid directory for saving checkpoints\n",
        "SAVE_DIR = ROOT if os.path.isdir(ROOT) else os.getcwd()\n",
        "\n",
        "print(data_path)"
      ]
    },
    {
      "cell_type": "code",
      "execution_count": null,
      "metadata": {
        "id": "tXFXbdUcc1kN"
      },
      "outputs": [],
      "source": [
        "# Download dataset\n",
        "# You must have at least 5GB free space to download the dataset in your Google Drive\n",
        "# Check your Google Drive after download is done\n",
        "\n",
        "# Once you downloaded the dataset, you don't need to run this cell\n",
        "\n",
        "\n",
        "if not os.path.exists(data_path + '/HCP_emotion_4D_sample.mat'):\n",
        "  !pip install pydrive\n",
        "  print('\\n\\n')\n",
        "  from pydrive.auth import GoogleAuth\n",
        "  from pydrive.drive import GoogleDrive\n",
        "  from google.colab import auth\n",
        "  from oauth2client.client import GoogleCredentials\n",
        "  auth.authenticate_user()\n",
        "  gauth = GoogleAuth()\n",
        "  gauth.credentials = GoogleCredentials.get_application_default()\n",
        "  gdrive = GoogleDrive(gauth)\n",
        "\n",
        "  # Download the data with Google Drive link\n",
        "  # Download takes about 5 mins.\n",
        "  img_file = gdrive.CreateFile({'id':'1OZQW_KkOsn_3-CsLHB018T_3V3huGB7E'})\n",
        "  img_file.GetContentFile(data_path + '/HCP_emotion_4D_sample.mat')"
      ]
    },
    {
      "cell_type": "code",
      "execution_count": null,
      "metadata": {
        "id": "OJ6wdmgOfWzY"
      },
      "outputs": [],
      "source": [
        "# Load Data from Google Drive\n",
        "# You can load whole dataset, or split the dataset into individual 3D volumes and then load them with custom dataloader.\n",
        "\n",
        "data = loadmat(data_path + '/HCP_emotion_4D_sample.mat')\n",
        "\n",
        "# Train: 3200, Test: 800\n",
        "# Report your model's performance only on designated testset (800 samples)\n",
        "# You are not allowed to mix data samples between the predefined train / test datasets.\n",
        "\n",
        "X_train = data['X_train']\n",
        "y_train = data['y_train']\n",
        "ids_train = data['ids_train']\n",
        "\n",
        "X_test = data['X_test']\n",
        "y_test = data['y_test']\n",
        "ids_test = data['ids_test']\n",
        "\n",
        "del data"
      ]
    },
    {
      "cell_type": "code",
      "execution_count": null,
      "metadata": {
        "id": "hBz1XA7tpt8C",
        "colab": {
          "base_uri": "https://localhost:8080/"
        },
        "outputId": "4b1520bf-e210-4033-8ca5-9d344700d291"
      },
      "outputs": [
        {
          "output_type": "stream",
          "name": "stdout",
          "text": [
            "X_train shape:  (3200, 53, 63, 46)\n",
            "y_train shape:  (3200, 1)\n",
            "ids_train shape:  (3200,)\n",
            "\n",
            "\n",
            "X_test shape:  (800, 53, 63, 46)\n",
            "y_test shape:  (800, 1)\n",
            "ids_test shape:  (800,)\n"
          ]
        }
      ],
      "source": [
        "# Check data shape\n",
        "\n",
        "print('X_train shape: ', X_train.shape)\n",
        "print('y_train shape: ', y_train.shape)\n",
        "print('ids_train shape: ', ids_train.shape)\n",
        "\n",
        "print('\\n')\n",
        "\n",
        "print('X_test shape: ', X_test.shape)\n",
        "print('y_test shape: ', y_test.shape)\n",
        "print('ids_test shape: ', ids_test.shape)"
      ]
    },
    {
      "cell_type": "code",
      "execution_count": null,
      "metadata": {
        "id": "fFALIeksZXFV"
      },
      "outputs": [],
      "source": [
        "# Robust DynamicFMRI_Dataset\n",
        "class DynamicFMRI_Dataset(Dataset):\n",
        "    def __init__(self, X, y, augment_ratio=0.0, normalize=False):\n",
        "        self.X_original = torch.from_numpy(X).float()\n",
        "        self.y_original = torch.from_numpy(y).long()\n",
        "        self.normalize = normalize\n",
        "\n",
        "        self.original_size = len(self.X_original)\n",
        "        self.do_augment = augment_ratio > 0\n",
        "        self.augmentation_indices = None\n",
        "\n",
        "        if self.do_augment:\n",
        "            self.num_to_augment = int(self.original_size * augment_ratio)\n",
        "            all_indices = np.arange(self.original_size)\n",
        "            np.random.shuffle(all_indices)\n",
        "            self.augmentation_indices = torch.from_numpy(all_indices[:self.num_to_augment])\n",
        "            print(f\"Created dataset with {self.num_to_augment} on-the-fly augmented samples.\")\n",
        "\n",
        "\n",
        "    def __len__(self):\n",
        "        return self.original_size + self.num_to_augment if self.do_augment else self.original_size\n",
        "\n",
        "    def __getitem__(self, idx):\n",
        "        if not self.do_augment or idx < self.original_size:\n",
        "            x_item = self.X_original[idx]\n",
        "            y_item = self.y_original[idx]\n",
        "        else:\n",
        "            # This check ensures self.augmentation_indices is not None before subscripting\n",
        "            if self.augmentation_indices is not None:\n",
        "                mapped_idx = self.augmentation_indices[idx - self.original_size]\n",
        "                x_item = self.X_original[mapped_idx]\n",
        "                y_item = self.y_original[mapped_idx]\n",
        "                x_item = torch.flip(x_item, dims=[-1])\n",
        "            else:\n",
        "                # This case should not be reached with the corrected __init__\n",
        "                raise RuntimeError(\"Augmentation indices are not initialized!\")\n",
        "\n",
        "\n",
        "        if self.normalize:\n",
        "            mean = x_item.mean()\n",
        "            std = x_item.std()\n",
        "            if std > 1e-6:\n",
        "                x_item = (x_item - mean) / std\n",
        "        return x_item, y_item"
      ]
    },
    {
      "cell_type": "code",
      "execution_count": null,
      "metadata": {
        "id": "aE0r3oSnfMSH",
        "colab": {
          "base_uri": "https://localhost:8080/"
        },
        "outputId": "1a8922a3-cc3d-473d-d766-6b7946f2b5b9"
      },
      "outputs": [
        {
          "output_type": "stream",
          "name": "stdout",
          "text": [
            "Created dataset with 320 on-the-fly augmented samples.\n"
          ]
        }
      ],
      "source": [
        "batch_size = 8\n",
        "train_dataset = DynamicFMRI_Dataset(X_train, y_train, augment_ratio=0.1, normalize=True)\n",
        "train_loader = DataLoader(train_dataset, batch_size, shuffle=True, num_workers=2, pin_memory=True)\n",
        "\n",
        "test_dataset  = DynamicFMRI_Dataset(X_test,  y_test, augment_ratio=0.0, normalize=True)\n",
        "test_loader = DataLoader(test_dataset, batch_size, shuffle=False, num_workers=2, pin_memory=True)\n",
        "\n",
        "_, img_depth, img_height, img_width = X_train.shape\n",
        "del X_train, y_train, X_test, y_test"
      ]
    },
    {
      "cell_type": "code",
      "execution_count": null,
      "metadata": {
        "id": "YGdycK4rgOWt"
      },
      "outputs": [],
      "source": [
        "# ----------------------------------------------------\n",
        "# 2. Patch embedding\n",
        "# 2D Patch Embedding for spatial slices\n",
        "# ----------------------------------------------------\n",
        "\n",
        "class PatchEmbedding2D(nn.Module):\n",
        "    def __init__(self, img_size, patch_size, in_channels, d_model):\n",
        "        super().__init__()\n",
        "        self.img_h, self.img_w = img_size\n",
        "        self.ph, self.pw = patch_size\n",
        "        self.num_patches = (self.img_h // self.ph) * (self.img_w // self.pw)\n",
        "\n",
        "        self.proj = nn.Conv2d(in_channels, d_model, kernel_size=patch_size, stride=patch_size)\n",
        "        self.cls_token = nn.Parameter(torch.zeros(1, 1, d_model))\n",
        "        self.pos_embed = nn.Parameter(torch.zeros(1, self.num_patches + 1, d_model))\n",
        "        nn.init.normal_(self.cls_token, std=0.02)\n",
        "        nn.init.normal_(self.pos_embed, std=0.02)\n",
        "\n",
        "    def forward(self, x): # x: (B, C, H, W)\n",
        "        x = self.proj(x).flatten(2).transpose(1, 2) # (B, N, d_model)\n",
        "        cls = self.cls_token.expand(x.size(0), -1, -1)\n",
        "        x = torch.cat((cls, x), 1) + self.pos_embed\n",
        "        return x # (B, N+1, d_model)"
      ]
    },
    {
      "cell_type": "code",
      "execution_count": null,
      "metadata": {
        "id": "XsAEI3H1hIy9"
      },
      "outputs": [],
      "source": [
        "# ----------------------------------------------------\n",
        "# 3. Transformer Encoder / Decoder\n",
        "# ----------------------------------------------------\n",
        "\n",
        "# ViT Encoder for Spatial Feature Extraction\n",
        "class ViTEncoder(nn.Module):\n",
        "    def __init__(self, d_model, n_layers, nhead, dropout):\n",
        "        super().__init__()\n",
        "        layer = nn.TransformerEncoderLayer(d_model, nhead, d_model * 4, dropout, batch_first=True, norm_first=True)\n",
        "        self.encoder = nn.TransformerEncoder(layer, n_layers)\n",
        "    def forward(self, x):\n",
        "        return self.encoder(x)\n",
        "\n",
        "# Temporal Transformer\n",
        "class TemporalTransformer(nn.Module):\n",
        "    def __init__(self, d_model, n_layers, nhead, dropout):\n",
        "        super().__init__()\n",
        "        layer = nn.TransformerEncoderLayer(d_model, nhead, d_model * 2, dropout, batch_first=True, norm_first=True)\n",
        "        self.tfl = nn.TransformerEncoder(layer, n_layers)\n",
        "        self.norm = nn.LayerNorm(d_model)\n",
        "\n",
        "    def forward(self, x): # x: (B, T, D) where T is sequence length\n",
        "        return self.norm(self.tfl(x))\n",
        "\n",
        "\n",
        "# MAE Decoder for 2D Patches\n",
        "class MAEDecoder2D(nn.Module):\n",
        "    def __init__(self, d_model, patch_dim, n_layers, nhead, dropout):\n",
        "        super().__init__()\n",
        "        layer = nn.TransformerEncoderLayer(d_model, nhead, d_model * 2, dropout, batch_first=True)\n",
        "        self.decoder = nn.TransformerEncoder(layer, n_layers)\n",
        "        self.out = nn.Linear(d_model, patch_dim)\n",
        "    def forward(self, x):\n",
        "        return self.out(self.decoder(x))\n"
      ]
    },
    {
      "cell_type": "code",
      "execution_count": null,
      "metadata": {
        "id": "el6UHIcWhT08"
      },
      "outputs": [],
      "source": [
        "# ----------------------------------------------------\n",
        "# 4. Masked Autoencoder\n",
        "# ----------------------------------------------------\n",
        "class MAEforSlices(nn.Module):\n",
        "    def __init__(self, img_size, patch_size, in_channels, d_model, n_enc, n_dec, nhead, dropout, mask_ratio):\n",
        "        super().__init__()\n",
        "        self.patch_embed = PatchEmbedding2D(img_size, patch_size, in_channels, d_model)\n",
        "        self.encoder = ViTEncoder(d_model, n_enc, nhead, dropout)\n",
        "        self.mask_ratio = mask_ratio\n",
        "        self.d_model = d_model\n",
        "        self.N = self.patch_embed.num_patches\n",
        "        self.patch_dim = int(np.prod(patch_size) * in_channels)\n",
        "        self.mask_token = nn.Parameter(torch.zeros(1, 1, d_model))\n",
        "        self.decoder = MAEDecoder2D(d_model, self.patch_dim, n_layers=n_dec, nhead=nhead, dropout=dropout)\n",
        "\n",
        "        # Create and initialize a positional embedding for the decoder\n",
        "        self.decoder_pos_embed = nn.Parameter(torch.zeros(1, self.N, d_model))\n",
        "        nn.init.normal_(self.decoder_pos_embed, std=0.02)\n",
        "        nn.init.normal_(self.mask_token, std=0.02)\n",
        "\n",
        "\n",
        "    def forward_loss(self, pred, target, mask):\n",
        "        mean = target.mean(dim=-1, keepdim=True)\n",
        "        var = target.var(dim=-1, keepdim=True)\n",
        "        target = (target - mean) / (var + 1.e-6)**.5\n",
        "        target_masked = target.gather(1, mask.unsqueeze(-1).expand(-1, -1, self.patch_dim))\n",
        "        pred_masked = pred.gather(1, mask.unsqueeze(-1).expand(-1, -1, self.patch_dim))\n",
        "        return F.mse_loss(pred_masked, target_masked)\n",
        "\n",
        "    def forward(self, x_2d):\n",
        "        B, H, W = x_2d.shape\n",
        "        x = x_2d.unsqueeze(1)\n",
        "        seq = self.patch_embed(x)\n",
        "        cls, patches = seq[:, :1], seq[:, 1:]\n",
        "        with torch.no_grad():\n",
        "            target_patches = x.unfold(2, self.patch_embed.ph, self.patch_embed.ph).unfold(3, self.patch_embed.pw, self.patch_embed.pw)\n",
        "            target_patches = target_patches.contiguous().view(B, -1, self.patch_dim)\n",
        "        num_mask = int(self.N * self.mask_ratio)\n",
        "        ids_shuffle = torch.rand(B, self.N, device=x.device).argsort(dim=1)\n",
        "        ids_restore = ids_shuffle.argsort(dim=1)\n",
        "        ids_mask = ids_shuffle[:, :num_mask]\n",
        "        ids_keep = ids_shuffle[:, num_mask:]\n",
        "        patches_keep = patches.gather(1, ids_keep.unsqueeze(-1).expand(-1, -1, self.d_model))\n",
        "        enc_in = torch.cat([cls, patches_keep], 1)\n",
        "        enc_out = self.encoder(enc_in)\n",
        "        mask_tokens = self.mask_token.expand(B, num_mask, -1)\n",
        "        dec_in_full = torch.cat([enc_out[:, 1:], mask_tokens], 1)\n",
        "        dec_in = dec_in_full.gather(1, ids_restore.unsqueeze(-1).expand(-1, -1, self.d_model))\n",
        "\n",
        "        # Add the decoder positional embedding to the decoder input\n",
        "        recon = self.decoder(dec_in + self.decoder_pos_embed)\n",
        "        return self.forward_loss(recon, target_patches, ids_mask)"
      ]
    },
    {
      "cell_type": "code",
      "execution_count": null,
      "metadata": {
        "id": "mvfJsqnkEdaE"
      },
      "outputs": [],
      "source": [
        "# ----------------------------------------------------\n",
        "# 5. Spatio-Temporal Classifier\n",
        "# ----------------------------------------------------\n",
        "class SpatioTemporalClassifier(nn.Module):\n",
        "    def __init__(self, img_size, time_steps, patch_size, in_channels, d_model,\n",
        "                 n_spatial_enc, n_temporal_enc, nhead_spatial, nhead_temporal, dropout, n_classes):\n",
        "        super().__init__()\n",
        "        self.d_model = d_model\n",
        "        # 1. Spatial Encoder (processes each slice)\n",
        "        self.patch_embed = PatchEmbedding2D(img_size, patch_size, in_channels, d_model)\n",
        "        self.spatial_encoder = ViTEncoder(d_model, n_spatial_enc, nhead_spatial, dropout)\n",
        "        # 2. Temporal Encoder (processes sequence of slice representations)\n",
        "        # Adding temporal positional embedding\n",
        "        self.temporal_pos_embed = nn.Parameter(torch.zeros(1, time_steps, d_model))\n",
        "        nn.init.normal_(self.temporal_pos_embed, std=0.02)\n",
        "        self.temporal_encoder = TemporalTransformer(d_model, n_temporal_enc, nhead_temporal, dropout)\n",
        "        # 3. Predictor\n",
        "        self.predictor = nn.Sequential(\n",
        "            nn.LayerNorm(d_model),\n",
        "            nn.Linear(d_model, d_model // 2),\n",
        "            nn.GELU(),\n",
        "            nn.Dropout(dropout),\n",
        "            nn.Linear(d_model // 2, n_classes)\n",
        "        )\n",
        "\n",
        "    def forward(self, x): # x: (B, D, H, W)\n",
        "        B, D, H, W = x.shape\n",
        "        x_slices = x.view(B * D, H, W).unsqueeze(1) # -> (B*D, 1, H, W)\n",
        "\n",
        "        # Spatial encoding for each slice\n",
        "        spatial_seq = self.patch_embed(x_slices)    # (B*D, N_2d+1, d)\n",
        "        spatial_out = self.spatial_encoder(spatial_seq) # (B*D, N_2d+1, d)\n",
        "        slice_repr = spatial_out[:, 0]              # Get CLS token -> (B*D, d)\n",
        "\n",
        "        # Form temporal sequence\n",
        "        temporal_seq = slice_repr.view(B, D, self.d_model) # -> (B, D, d)\n",
        "        temporal_seq += self.temporal_pos_embed # Add temporal pos encoding\n",
        "\n",
        "        # Temporal encoding\n",
        "        temporal_out = self.temporal_encoder(temporal_seq) # -> (B, D, d)\n",
        "\n",
        "        # Predictor: Mean pool over time dimension\n",
        "        pooled_out = temporal_out.mean(dim=1) # -> (B, d)\n",
        "        logits = self.predictor(pooled_out)\n",
        "        return logits"
      ]
    },
    {
      "cell_type": "code",
      "execution_count": null,
      "metadata": {
        "id": "ikXpimk_hMb1"
      },
      "outputs": [],
      "source": [
        "# ----------------------------------------------------\n",
        "# 6. Hyperparameters\n",
        "# ----------------------------------------------------\n",
        "# Architectural params\n",
        "patch_size_2d = (7, 2) #\n",
        "d_model    = 192\n",
        "n_spatial_enc = 4\n",
        "n_dec_mae = 2\n",
        "n_temporal_enc = 2\n",
        "\n",
        "# Spatial and temporal components\n",
        "nhead_spatial = 8\n",
        "nhead_temporal = 8\n",
        "\n",
        "# Training params\n",
        "dropout    = 0.1\n",
        "mask_ratio = 0.65\n",
        "num_classes= 2\n",
        "mae_epochs = 100\n",
        "clf_epochs = 20\n",
        "mae_lr     = 1.5e-4\n",
        "clf_lr     = 3e-5\n",
        "warmup_epochs = 5"
      ]
    },
    {
      "cell_type": "code",
      "source": [
        "# This error is related to torch._dynamo and can be triggered by optimizer instantiation.\n",
        "# Disabling torch.compile is a robust workaround.\n",
        "if hasattr(torch, 'compiler'):\n",
        "    torch.compiler.disable()"
      ],
      "metadata": {
        "id": "oRK6oykg4DL1"
      },
      "execution_count": null,
      "outputs": []
    },
    {
      "cell_type": "code",
      "execution_count": null,
      "metadata": {
        "id": "NQNp_tRHhc9U",
        "colab": {
          "base_uri": "https://localhost:8080/"
        },
        "outputId": "41855f63-5ade-40c5-ce58-a1f12c7f7958"
      },
      "outputs": [
        {
          "output_type": "stream",
          "name": "stdout",
          "text": [
            "\n",
            "--- Starting MAE Pre-training on 2D Slices ---\n"
          ]
        },
        {
          "output_type": "stream",
          "name": "stderr",
          "text": [
            "/usr/local/lib/python3.11/dist-packages/torch/nn/modules/transformer.py:385: UserWarning: enable_nested_tensor is True, but self.use_nested_tensor is False because encoder_layer.norm_first was True\n",
            "  warnings.warn(\n",
            "/tmp/ipython-input-20-1172366045.py:22: FutureWarning: `torch.cuda.amp.GradScaler(args...)` is deprecated. Please use `torch.amp.GradScaler('cuda', args...)` instead.\n",
            "  scaler = GradScaler(enabled=(device.type == 'cuda'))\n",
            "MAE Ep 1/40:   0%|          | 0/440 [00:00<?, ?it/s]/tmp/ipython-input-20-1172366045.py:39: FutureWarning: `torch.cuda.amp.autocast(args...)` is deprecated. Please use `torch.amp.autocast('cuda', args...)` instead.\n",
            "  with autocast(enabled=(device.type == 'cuda')):\n",
            "MAE Ep 1/40: 100%|██████████| 440/440 [01:40<00:00,  4.38it/s, loss=0.406, lr=2.99e-5]\n"
          ]
        },
        {
          "output_type": "stream",
          "name": "stdout",
          "text": [
            "MAE Epoch 1/40 | Avg Loss: 0.4521 | Final LR: 2.99e-05\n"
          ]
        },
        {
          "output_type": "stream",
          "name": "stderr",
          "text": [
            "MAE Ep 2/40: 100%|██████████| 440/440 [01:40<00:00,  4.38it/s, loss=0.397, lr=5.99e-5]\n"
          ]
        },
        {
          "output_type": "stream",
          "name": "stdout",
          "text": [
            "MAE Epoch 2/40 | Avg Loss: 0.4002 | Final LR: 5.99e-05\n"
          ]
        },
        {
          "output_type": "stream",
          "name": "stderr",
          "text": [
            "MAE Ep 3/40: 100%|██████████| 440/440 [01:40<00:00,  4.37it/s, loss=0.397, lr=8.99e-5]\n"
          ]
        },
        {
          "output_type": "stream",
          "name": "stdout",
          "text": [
            "MAE Epoch 3/40 | Avg Loss: 0.3979 | Final LR: 8.99e-05\n"
          ]
        },
        {
          "output_type": "stream",
          "name": "stderr",
          "text": [
            "MAE Ep 4/40: 100%|██████████| 440/440 [01:40<00:00,  4.37it/s, loss=0.397, lr=0.00012]\n"
          ]
        },
        {
          "output_type": "stream",
          "name": "stdout",
          "text": [
            "MAE Epoch 4/40 | Avg Loss: 0.3969 | Final LR: 1.20e-04\n"
          ]
        },
        {
          "output_type": "stream",
          "name": "stderr",
          "text": [
            "MAE Ep 5/40: 100%|██████████| 440/440 [01:40<00:00,  4.36it/s, loss=0.393, lr=0.00015]\n"
          ]
        },
        {
          "output_type": "stream",
          "name": "stdout",
          "text": [
            "MAE Epoch 5/40 | Avg Loss: 0.3961 | Final LR: 1.50e-04\n"
          ]
        },
        {
          "output_type": "stream",
          "name": "stderr",
          "text": [
            "MAE Ep 6/40: 100%|██████████| 440/440 [01:40<00:00,  4.37it/s, loss=0.397, lr=0.00015]\n"
          ]
        },
        {
          "output_type": "stream",
          "name": "stdout",
          "text": [
            "MAE Epoch 6/40 | Avg Loss: 0.3952 | Final LR: 1.50e-04\n"
          ]
        },
        {
          "output_type": "stream",
          "name": "stderr",
          "text": [
            "MAE Ep 7/40: 100%|██████████| 440/440 [01:40<00:00,  4.37it/s, loss=0.396, lr=0.000149]\n"
          ]
        },
        {
          "output_type": "stream",
          "name": "stdout",
          "text": [
            "MAE Epoch 7/40 | Avg Loss: 0.3939 | Final LR: 1.49e-04\n"
          ]
        },
        {
          "output_type": "stream",
          "name": "stderr",
          "text": [
            "MAE Ep 8/40: 100%|██████████| 440/440 [01:40<00:00,  4.38it/s, loss=0.389, lr=0.000147]\n"
          ]
        },
        {
          "output_type": "stream",
          "name": "stdout",
          "text": [
            "MAE Epoch 8/40 | Avg Loss: 0.3924 | Final LR: 1.47e-04\n"
          ]
        },
        {
          "output_type": "stream",
          "name": "stderr",
          "text": [
            "MAE Ep 9/40: 100%|██████████| 440/440 [01:40<00:00,  4.37it/s, loss=0.388, lr=0.000145]\n"
          ]
        },
        {
          "output_type": "stream",
          "name": "stdout",
          "text": [
            "MAE Epoch 9/40 | Avg Loss: 0.3908 | Final LR: 1.45e-04\n"
          ]
        },
        {
          "output_type": "stream",
          "name": "stderr",
          "text": [
            "MAE Ep 10/40: 100%|██████████| 440/440 [01:40<00:00,  4.38it/s, loss=0.387, lr=0.000143]\n"
          ]
        },
        {
          "output_type": "stream",
          "name": "stdout",
          "text": [
            "MAE Epoch 10/40 | Avg Loss: 0.3894 | Final LR: 1.43e-04\n"
          ]
        },
        {
          "output_type": "stream",
          "name": "stderr",
          "text": [
            "MAE Ep 11/40: 100%|██████████| 440/440 [01:40<00:00,  4.37it/s, loss=0.387, lr=0.000139]\n"
          ]
        },
        {
          "output_type": "stream",
          "name": "stdout",
          "text": [
            "MAE Epoch 11/40 | Avg Loss: 0.3879 | Final LR: 1.39e-04\n"
          ]
        },
        {
          "output_type": "stream",
          "name": "stderr",
          "text": [
            "MAE Ep 12/40: 100%|██████████| 440/440 [01:40<00:00,  4.37it/s, loss=0.392, lr=0.000136]\n"
          ]
        },
        {
          "output_type": "stream",
          "name": "stdout",
          "text": [
            "MAE Epoch 12/40 | Avg Loss: 0.3863 | Final LR: 1.36e-04\n"
          ]
        },
        {
          "output_type": "stream",
          "name": "stderr",
          "text": [
            "MAE Ep 13/40: 100%|██████████| 440/440 [01:40<00:00,  4.39it/s, loss=0.389, lr=0.000132]\n"
          ]
        },
        {
          "output_type": "stream",
          "name": "stdout",
          "text": [
            "MAE Epoch 13/40 | Avg Loss: 0.3847 | Final LR: 1.32e-04\n"
          ]
        },
        {
          "output_type": "stream",
          "name": "stderr",
          "text": [
            "MAE Ep 14/40: 100%|██████████| 440/440 [01:40<00:00,  4.39it/s, loss=0.376, lr=0.000127]\n"
          ]
        },
        {
          "output_type": "stream",
          "name": "stdout",
          "text": [
            "MAE Epoch 14/40 | Avg Loss: 0.3831 | Final LR: 1.27e-04\n"
          ]
        },
        {
          "output_type": "stream",
          "name": "stderr",
          "text": [
            "MAE Ep 15/40: 100%|██████████| 440/440 [01:40<00:00,  4.38it/s, loss=0.379, lr=0.000122]\n"
          ]
        },
        {
          "output_type": "stream",
          "name": "stdout",
          "text": [
            "MAE Epoch 15/40 | Avg Loss: 0.3814 | Final LR: 1.22e-04\n"
          ]
        },
        {
          "output_type": "stream",
          "name": "stderr",
          "text": [
            "MAE Ep 16/40: 100%|██████████| 440/440 [01:40<00:00,  4.38it/s, loss=0.375, lr=0.000117]\n"
          ]
        },
        {
          "output_type": "stream",
          "name": "stdout",
          "text": [
            "MAE Epoch 16/40 | Avg Loss: 0.3797 | Final LR: 1.17e-04\n"
          ]
        },
        {
          "output_type": "stream",
          "name": "stderr",
          "text": [
            "MAE Ep 17/40: 100%|██████████| 440/440 [01:40<00:00,  4.38it/s, loss=0.371, lr=0.000111]\n"
          ]
        },
        {
          "output_type": "stream",
          "name": "stdout",
          "text": [
            "MAE Epoch 17/40 | Avg Loss: 0.3778 | Final LR: 1.11e-04\n"
          ]
        },
        {
          "output_type": "stream",
          "name": "stderr",
          "text": [
            "MAE Ep 18/40: 100%|██████████| 440/440 [01:40<00:00,  4.39it/s, loss=0.372, lr=0.000105]\n"
          ]
        },
        {
          "output_type": "stream",
          "name": "stdout",
          "text": [
            "MAE Epoch 18/40 | Avg Loss: 0.3762 | Final LR: 1.05e-04\n"
          ]
        },
        {
          "output_type": "stream",
          "name": "stderr",
          "text": [
            "MAE Ep 19/40: 100%|██████████| 440/440 [01:40<00:00,  4.38it/s, loss=0.379, lr=9.85e-5]\n"
          ]
        },
        {
          "output_type": "stream",
          "name": "stdout",
          "text": [
            "MAE Epoch 19/40 | Avg Loss: 0.3748 | Final LR: 9.85e-05\n"
          ]
        },
        {
          "output_type": "stream",
          "name": "stderr",
          "text": [
            "MAE Ep 20/40: 100%|██████████| 440/440 [01:40<00:00,  4.38it/s, loss=0.368, lr=9.21e-5]\n"
          ]
        },
        {
          "output_type": "stream",
          "name": "stdout",
          "text": [
            "MAE Epoch 20/40 | Avg Loss: 0.3734 | Final LR: 9.21e-05\n"
          ]
        },
        {
          "output_type": "stream",
          "name": "stderr",
          "text": [
            "MAE Ep 21/40: 100%|██████████| 440/440 [01:40<00:00,  4.39it/s, loss=0.376, lr=8.55e-5]\n"
          ]
        },
        {
          "output_type": "stream",
          "name": "stdout",
          "text": [
            "MAE Epoch 21/40 | Avg Loss: 0.3720 | Final LR: 8.55e-05\n"
          ]
        },
        {
          "output_type": "stream",
          "name": "stderr",
          "text": [
            "MAE Ep 22/40: 100%|██████████| 440/440 [01:40<00:00,  4.38it/s, loss=0.376, lr=7.89e-5]\n"
          ]
        },
        {
          "output_type": "stream",
          "name": "stdout",
          "text": [
            "MAE Epoch 22/40 | Avg Loss: 0.3706 | Final LR: 7.89e-05\n"
          ]
        },
        {
          "output_type": "stream",
          "name": "stderr",
          "text": [
            "MAE Ep 23/40: 100%|██████████| 440/440 [01:40<00:00,  4.40it/s, loss=0.37, lr=7.22e-5]\n"
          ]
        },
        {
          "output_type": "stream",
          "name": "stdout",
          "text": [
            "MAE Epoch 23/40 | Avg Loss: 0.3695 | Final LR: 7.22e-05\n"
          ]
        },
        {
          "output_type": "stream",
          "name": "stderr",
          "text": [
            "MAE Ep 24/40: 100%|██████████| 440/440 [01:40<00:00,  4.38it/s, loss=0.365, lr=6.55e-5]\n"
          ]
        },
        {
          "output_type": "stream",
          "name": "stdout",
          "text": [
            "MAE Epoch 24/40 | Avg Loss: 0.3684 | Final LR: 6.55e-05\n"
          ]
        },
        {
          "output_type": "stream",
          "name": "stderr",
          "text": [
            "MAE Ep 25/40: 100%|██████████| 440/440 [01:40<00:00,  4.36it/s, loss=0.368, lr=5.89e-5]\n"
          ]
        },
        {
          "output_type": "stream",
          "name": "stdout",
          "text": [
            "MAE Epoch 25/40 | Avg Loss: 0.3673 | Final LR: 5.89e-05\n"
          ]
        },
        {
          "output_type": "stream",
          "name": "stderr",
          "text": [
            "MAE Ep 26/40: 100%|██████████| 440/440 [01:40<00:00,  4.37it/s, loss=0.369, lr=5.25e-5]\n"
          ]
        },
        {
          "output_type": "stream",
          "name": "stdout",
          "text": [
            "MAE Epoch 26/40 | Avg Loss: 0.3663 | Final LR: 5.25e-05\n"
          ]
        },
        {
          "output_type": "stream",
          "name": "stderr",
          "text": [
            "MAE Ep 27/40: 100%|██████████| 440/440 [01:40<00:00,  4.38it/s, loss=0.366, lr=4.62e-5]\n"
          ]
        },
        {
          "output_type": "stream",
          "name": "stdout",
          "text": [
            "MAE Epoch 27/40 | Avg Loss: 0.3654 | Final LR: 4.62e-05\n"
          ]
        },
        {
          "output_type": "stream",
          "name": "stderr",
          "text": [
            "MAE Ep 28/40: 100%|██████████| 440/440 [01:40<00:00,  4.37it/s, loss=0.364, lr=4.02e-5]\n"
          ]
        },
        {
          "output_type": "stream",
          "name": "stdout",
          "text": [
            "MAE Epoch 28/40 | Avg Loss: 0.3648 | Final LR: 4.02e-05\n"
          ]
        },
        {
          "output_type": "stream",
          "name": "stderr",
          "text": [
            "MAE Ep 29/40: 100%|██████████| 440/440 [01:40<00:00,  4.37it/s, loss=0.364, lr=3.45e-5]\n"
          ]
        },
        {
          "output_type": "stream",
          "name": "stdout",
          "text": [
            "MAE Epoch 29/40 | Avg Loss: 0.3641 | Final LR: 3.45e-05\n"
          ]
        },
        {
          "output_type": "stream",
          "name": "stderr",
          "text": [
            "MAE Ep 30/40: 100%|██████████| 440/440 [01:40<00:00,  4.39it/s, loss=0.359, lr=2.91e-5]\n"
          ]
        },
        {
          "output_type": "stream",
          "name": "stdout",
          "text": [
            "MAE Epoch 30/40 | Avg Loss: 0.3633 | Final LR: 2.91e-05\n"
          ]
        },
        {
          "output_type": "stream",
          "name": "stderr",
          "text": [
            "MAE Ep 31/40: 100%|██████████| 440/440 [01:40<00:00,  4.39it/s, loss=0.357, lr=2.4e-5]\n"
          ]
        },
        {
          "output_type": "stream",
          "name": "stdout",
          "text": [
            "MAE Epoch 31/40 | Avg Loss: 0.3628 | Final LR: 2.40e-05\n"
          ]
        },
        {
          "output_type": "stream",
          "name": "stderr",
          "text": [
            "MAE Ep 32/40: 100%|██████████| 440/440 [01:40<00:00,  4.39it/s, loss=0.363, lr=1.94e-5]\n"
          ]
        },
        {
          "output_type": "stream",
          "name": "stdout",
          "text": [
            "MAE Epoch 32/40 | Avg Loss: 0.3623 | Final LR: 1.94e-05\n"
          ]
        },
        {
          "output_type": "stream",
          "name": "stderr",
          "text": [
            "MAE Ep 33/40: 100%|██████████| 440/440 [01:40<00:00,  4.37it/s, loss=0.363, lr=1.52e-5]\n"
          ]
        },
        {
          "output_type": "stream",
          "name": "stdout",
          "text": [
            "MAE Epoch 33/40 | Avg Loss: 0.3622 | Final LR: 1.52e-05\n"
          ]
        },
        {
          "output_type": "stream",
          "name": "stderr",
          "text": [
            "MAE Ep 34/40: 100%|██████████| 440/440 [01:40<00:00,  4.39it/s, loss=0.365, lr=1.16e-5]\n"
          ]
        },
        {
          "output_type": "stream",
          "name": "stdout",
          "text": [
            "MAE Epoch 34/40 | Avg Loss: 0.3617 | Final LR: 1.16e-05\n"
          ]
        },
        {
          "output_type": "stream",
          "name": "stderr",
          "text": [
            "MAE Ep 35/40: 100%|██████████| 440/440 [01:40<00:00,  4.39it/s, loss=0.365, lr=8.38e-6]\n"
          ]
        },
        {
          "output_type": "stream",
          "name": "stdout",
          "text": [
            "MAE Epoch 35/40 | Avg Loss: 0.3614 | Final LR: 8.38e-06\n"
          ]
        },
        {
          "output_type": "stream",
          "name": "stderr",
          "text": [
            "MAE Ep 36/40: 100%|██████████| 440/440 [01:40<00:00,  4.39it/s, loss=0.359, lr=5.76e-6]\n"
          ]
        },
        {
          "output_type": "stream",
          "name": "stdout",
          "text": [
            "MAE Epoch 36/40 | Avg Loss: 0.3611 | Final LR: 5.76e-06\n"
          ]
        },
        {
          "output_type": "stream",
          "name": "stderr",
          "text": [
            "MAE Ep 37/40: 100%|██████████| 440/440 [01:40<00:00,  4.37it/s, loss=0.361, lr=3.69e-6]\n"
          ]
        },
        {
          "output_type": "stream",
          "name": "stdout",
          "text": [
            "MAE Epoch 37/40 | Avg Loss: 0.3609 | Final LR: 3.69e-06\n"
          ]
        },
        {
          "output_type": "stream",
          "name": "stderr",
          "text": [
            "MAE Ep 38/40: 100%|██████████| 440/440 [01:40<00:00,  4.38it/s, loss=0.362, lr=2.2e-6]\n"
          ]
        },
        {
          "output_type": "stream",
          "name": "stdout",
          "text": [
            "MAE Epoch 38/40 | Avg Loss: 0.3610 | Final LR: 2.20e-06\n"
          ]
        },
        {
          "output_type": "stream",
          "name": "stderr",
          "text": [
            "MAE Ep 39/40: 100%|██████████| 440/440 [01:40<00:00,  4.38it/s, loss=0.363, lr=1.3e-6]\n"
          ]
        },
        {
          "output_type": "stream",
          "name": "stdout",
          "text": [
            "MAE Epoch 39/40 | Avg Loss: 0.3608 | Final LR: 1.30e-06\n"
          ]
        },
        {
          "output_type": "stream",
          "name": "stderr",
          "text": [
            "MAE Ep 40/40: 100%|██████████| 440/440 [01:40<00:00,  4.38it/s, loss=0.358, lr=1e-6]"
          ]
        },
        {
          "output_type": "stream",
          "name": "stdout",
          "text": [
            "MAE Epoch 40/40 | Avg Loss: 0.3608 | Final LR: 1.00e-06\n",
            "MAE pre-training done.\n",
            "\n"
          ]
        },
        {
          "output_type": "stream",
          "name": "stderr",
          "text": [
            "\n"
          ]
        }
      ],
      "source": [
        "# ----------------------------------------------------\n",
        "# 7. Pre‑train MAE\n",
        "# ----------------------------------------------------\n",
        "print(\"\\n--- Starting MAE Pre-training on 2D Slices ---\")\n",
        "mae = MAEforSlices(\n",
        "    (img_height, img_width), patch_size_2d, 1, d_model,\n",
        "    n_spatial_enc, n_dec_mae, nhead_spatial, dropout, mask_ratio\n",
        ").to(device)\n",
        "\n",
        "opt_mae = optim.AdamW(mae.parameters(), lr=mae_lr, betas=(0.9, 0.95), weight_decay=0.05)\n",
        "\n",
        "def get_lr(it, total_it, warmup_it):\n",
        "    if it < warmup_it:\n",
        "        return mae_lr * it / warmup_it\n",
        "    if it > total_it:\n",
        "        return 1e-6\n",
        "    decay_ratio = (it - warmup_it) / (total_it - warmup_it)\n",
        "    assert 0 <= decay_ratio <= 1\n",
        "    coeff = 0.5 * (1.0 + math.cos(math.pi * decay_ratio))\n",
        "    return 1e-6 + coeff * (mae_lr - 1e-6)\n",
        "\n",
        "scaler = GradScaler(enabled=(device.type == 'cuda'))\n",
        "total_iterations = mae_epochs * len(train_loader)\n",
        "warmup_iterations = warmup_epochs * len(train_loader)\n",
        "it_num = 0\n",
        "\n",
        "for ep in range(mae_epochs):\n",
        "    mae.train()\n",
        "    total_loss = 0\n",
        "    lr = 0.0\n",
        "    pbar = tqdm(train_loader, desc=f\"MAE Ep {ep+1}/{mae_epochs}\")\n",
        "    for imgs, _ in pbar:\n",
        "        lr = get_lr(it_num, total_iterations, warmup_iterations)\n",
        "        for param_group in opt_mae.param_groups:\n",
        "            param_group['lr'] = lr\n",
        "        imgs = imgs.to(device)\n",
        "        slices = imgs.view(-1, img_height, img_width)\n",
        "        opt_mae.zero_grad(set_to_none=True)\n",
        "        with autocast(enabled=(device.type == 'cuda')):\n",
        "            loss = mae(slices)\n",
        "        scaler.scale(loss).backward()\n",
        "        scaler.step(opt_mae)\n",
        "        scaler.update()\n",
        "        total_loss += loss.item()\n",
        "        pbar.set_postfix(loss=loss.item(), lr=lr)\n",
        "        it_num += 1\n",
        "\n",
        "    avg_loss = total_loss / len(train_loader)\n",
        "    print(f\"MAE Epoch {ep+1}/{mae_epochs} | Avg Loss: {avg_loss:.4f} | Final LR: {lr:.2e}\")\n",
        "\n",
        "print(\"MAE pre-training done.\\n\")"
      ]
    },
    {
      "cell_type": "code",
      "execution_count": null,
      "metadata": {
        "id": "_AOChirgta0I",
        "colab": {
          "base_uri": "https://localhost:8080/"
        },
        "outputId": "0dbf3440-a5b3-4192-8285-81d5572a2240"
      },
      "outputs": [
        {
          "output_type": "stream",
          "name": "stderr",
          "text": [
            "/tmp/ipython-input-21-989343707.py:22: FutureWarning: `torch.cuda.amp.GradScaler(args...)` is deprecated. Please use `torch.amp.GradScaler('cuda', args...)` instead.\n",
            "  scaler_clf = GradScaler(enabled=(device.type == 'cuda'))\n"
          ]
        },
        {
          "output_type": "stream",
          "name": "stdout",
          "text": [
            "--- Starting Spatio-Temporal Fine-tuning ---\n",
            "Weights from MAE's PatchEmbed and Spatial Encoder transferred to Classifier.\n"
          ]
        },
        {
          "output_type": "stream",
          "name": "stderr",
          "text": [
            "\rCLF Train Ep 1/10:   0%|          | 0/440 [00:00<?, ?it/s]/tmp/ipython-input-21-989343707.py:37: FutureWarning: `torch.cuda.amp.autocast(args...)` is deprecated. Please use `torch.amp.autocast('cuda', args...)` instead.\n",
            "  with autocast(enabled=(device.type == \"cuda\")):\n",
            "CLF Train Ep 1/10: 100%|██████████| 440/440 [02:03<00:00,  3.55it/s, acc=76.8]\n",
            "CLF Val Ep 1/10:   0%|          | 0/100 [00:00<?, ?it/s]/tmp/ipython-input-21-989343707.py:62: FutureWarning: `torch.cuda.amp.autocast(args...)` is deprecated. Please use `torch.amp.autocast('cuda', args...)` instead.\n",
            "  with autocast(enabled=(device.type == \"cuda\")):\n",
            "CLF Val Ep 1/10: 100%|██████████| 100/100 [00:08<00:00, 11.51it/s, acc=81.6]\n"
          ]
        },
        {
          "output_type": "stream",
          "name": "stdout",
          "text": [
            "Epoch 1 | New best accuracy: 81.62% | Model saved.\n",
            "Epoch 1/10: Train Acc 76.82% | Val Acc 81.62% (Best: 81.62%)\n"
          ]
        },
        {
          "output_type": "stream",
          "name": "stderr",
          "text": [
            "CLF Train Ep 2/10: 100%|██████████| 440/440 [02:02<00:00,  3.58it/s, acc=87.3]\n",
            "CLF Val Ep 2/10: 100%|██████████| 100/100 [00:09<00:00, 10.81it/s, acc=87.5]\n"
          ]
        },
        {
          "output_type": "stream",
          "name": "stdout",
          "text": [
            "Epoch 2 | New best accuracy: 87.50% | Model saved.\n",
            "Epoch 2/10: Train Acc 87.33% | Val Acc 87.50% (Best: 87.50%)\n"
          ]
        },
        {
          "output_type": "stream",
          "name": "stderr",
          "text": [
            "CLF Train Ep 3/10: 100%|██████████| 440/440 [02:02<00:00,  3.58it/s, acc=88.8]\n",
            "CLF Val Ep 3/10: 100%|██████████| 100/100 [00:08<00:00, 12.33it/s, acc=87.6]\n"
          ]
        },
        {
          "output_type": "stream",
          "name": "stdout",
          "text": [
            "Epoch 3 | New best accuracy: 87.62% | Model saved.\n",
            "Epoch 3/10: Train Acc 88.75% | Val Acc 87.62% (Best: 87.62%)\n"
          ]
        },
        {
          "output_type": "stream",
          "name": "stderr",
          "text": [
            "CLF Train Ep 4/10: 100%|██████████| 440/440 [02:02<00:00,  3.58it/s, acc=91.2]\n",
            "CLF Val Ep 4/10: 100%|██████████| 100/100 [00:09<00:00, 10.97it/s, acc=86.9]\n"
          ]
        },
        {
          "output_type": "stream",
          "name": "stdout",
          "text": [
            "Epoch 4/10: Train Acc 91.16% | Val Acc 86.88% (Best: 87.62%)\n"
          ]
        },
        {
          "output_type": "stream",
          "name": "stderr",
          "text": [
            "CLF Train Ep 5/10: 100%|██████████| 440/440 [02:02<00:00,  3.58it/s, acc=92.3]\n",
            "CLF Val Ep 5/10: 100%|██████████| 100/100 [00:08<00:00, 12.18it/s, acc=89.6]\n"
          ]
        },
        {
          "output_type": "stream",
          "name": "stdout",
          "text": [
            "Epoch 5 | New best accuracy: 89.62% | Model saved.\n",
            "Epoch 5/10: Train Acc 92.27% | Val Acc 89.62% (Best: 89.62%)\n"
          ]
        },
        {
          "output_type": "stream",
          "name": "stderr",
          "text": [
            "CLF Train Ep 6/10: 100%|██████████| 440/440 [02:02<00:00,  3.58it/s, acc=93.1]\n",
            "CLF Val Ep 6/10: 100%|██████████| 100/100 [00:09<00:00, 11.05it/s, acc=88.5]\n"
          ]
        },
        {
          "output_type": "stream",
          "name": "stdout",
          "text": [
            "Epoch 6/10: Train Acc 93.10% | Val Acc 88.50% (Best: 89.62%)\n"
          ]
        },
        {
          "output_type": "stream",
          "name": "stderr",
          "text": [
            "CLF Train Ep 7/10: 100%|██████████| 440/440 [02:02<00:00,  3.59it/s, acc=94.3]\n",
            "CLF Val Ep 7/10: 100%|██████████| 100/100 [00:08<00:00, 11.28it/s, acc=89.8]\n"
          ]
        },
        {
          "output_type": "stream",
          "name": "stdout",
          "text": [
            "Epoch 7 | New best accuracy: 89.75% | Model saved.\n",
            "Epoch 7/10: Train Acc 94.29% | Val Acc 89.75% (Best: 89.75%)\n"
          ]
        },
        {
          "output_type": "stream",
          "name": "stderr",
          "text": [
            "CLF Train Ep 8/10: 100%|██████████| 440/440 [02:02<00:00,  3.58it/s, acc=97.7]\n",
            "CLF Val Ep 8/10: 100%|██████████| 100/100 [00:08<00:00, 11.92it/s, acc=91]\n"
          ]
        },
        {
          "output_type": "stream",
          "name": "stdout",
          "text": [
            "Epoch 8 | New best accuracy: 91.00% | Model saved.\n",
            "Epoch 8/10: Train Acc 97.67% | Val Acc 91.00% (Best: 91.00%)\n"
          ]
        },
        {
          "output_type": "stream",
          "name": "stderr",
          "text": [
            "CLF Train Ep 9/10: 100%|██████████| 440/440 [02:02<00:00,  3.59it/s, acc=97.8]\n",
            "CLF Val Ep 9/10: 100%|██████████| 100/100 [00:09<00:00, 11.06it/s, acc=90]\n"
          ]
        },
        {
          "output_type": "stream",
          "name": "stdout",
          "text": [
            "Epoch 9/10: Train Acc 97.81% | Val Acc 90.00% (Best: 91.00%)\n"
          ]
        },
        {
          "output_type": "stream",
          "name": "stderr",
          "text": [
            "CLF Train Ep 10/10: 100%|██████████| 440/440 [02:02<00:00,  3.59it/s, acc=98.2]\n",
            "CLF Val Ep 10/10: 100%|██████████| 100/100 [00:08<00:00, 12.22it/s, acc=90.5]"
          ]
        },
        {
          "output_type": "stream",
          "name": "stdout",
          "text": [
            "Epoch 10/10: Train Acc 98.18% | Val Acc 90.50% (Best: 91.00%)\n",
            "\n",
            "Fine-tuning complete.\n"
          ]
        },
        {
          "output_type": "stream",
          "name": "stderr",
          "text": [
            "\n"
          ]
        }
      ],
      "source": [
        "# ----------------------------------------------------\n",
        "# 8. Fine-tune Spatio-Temporal Classifier\n",
        "# ----------------------------------------------------\n",
        "\n",
        "print(\"--- Starting Spatio-Temporal Fine-tuning ---\")\n",
        "clf = SpatioTemporalClassifier(\n",
        "    img_size=(img_height, img_width), time_steps=img_depth,\n",
        "    patch_size=patch_size_2d, in_channels=1, d_model=d_model,\n",
        "    n_spatial_enc=n_spatial_enc, n_temporal_enc=n_temporal_enc,\n",
        "    nhead_spatial=nhead_spatial, nhead_temporal=nhead_temporal,\n",
        "    dropout=dropout, n_classes=num_classes\n",
        ").to(device)\n",
        "\n",
        "clf.patch_embed.load_state_dict(mae.patch_embed.state_dict())\n",
        "clf.spatial_encoder.load_state_dict(mae.encoder.state_dict())\n",
        "print(\"Weights from MAE's PatchEmbed and Spatial Encoder transferred to Classifier.\")\n",
        "\n",
        "opt_clf = optim.AdamW(clf.parameters(), lr=clf_lr, weight_decay=0.05)\n",
        "sched_clf = optim.lr_scheduler.StepLR(opt_clf, step_size=int(clf_epochs * 0.7), gamma=0.1)\n",
        "criterion = nn.CrossEntropyLoss()\n",
        "# Instantiate a GradScaler for the fine-tuning loop\n",
        "scaler_clf = GradScaler(enabled=(device.type == 'cuda'))\n",
        "\n",
        "train_losses, test_losses = [], []\n",
        "train_accs,  test_accs  = [], []\n",
        "best_acc = 0.0\n",
        "\n",
        "for ep in range(clf_epochs):\n",
        "    # --- Train ---\n",
        "    clf.train()\n",
        "    running_loss = train_correct = train_total = 0\n",
        "    pbar_train = tqdm(train_loader, desc=f\"CLF Train Ep {ep+1}/{clf_epochs}\")\n",
        "    for imgs, labels in pbar_train:\n",
        "        imgs, labels = imgs.to(device), labels.squeeze(1).to(device)\n",
        "        opt_clf.zero_grad(set_to_none=True)\n",
        "        # Use autocast for the forward pass\n",
        "        with autocast(enabled=(device.type == \"cuda\")):\n",
        "            logits = clf(imgs)\n",
        "            loss = criterion(logits, labels)\n",
        "        # Use scaler for backward pass and optimizer step\n",
        "        scaler_clf.scale(loss).backward()\n",
        "        scaler_clf.step(opt_clf)\n",
        "        scaler_clf.update()\n",
        "\n",
        "        running_loss += loss.item()\n",
        "        train_correct += (logits.argmax(1) == labels).sum().item()\n",
        "        train_total += labels.size(0)\n",
        "        pbar_train.set_postfix(acc=100*train_correct/train_total)\n",
        "\n",
        "    train_losses.append(running_loss / len(train_loader))\n",
        "    train_accs.append(100 * train_correct / train_total)\n",
        "    sched_clf.step()\n",
        "\n",
        "    # --- Validation ---\n",
        "    clf.eval()\n",
        "    val_loss = val_correct = val_total = 0\n",
        "    with torch.no_grad():\n",
        "        pbar_val = tqdm(test_loader, desc=f\"CLF Val Ep {ep+1}/{clf_epochs}\")\n",
        "        for imgs, labels in pbar_val:\n",
        "            imgs, labels = imgs.to(device), labels.squeeze(1).to(device)\n",
        "            # Use autocast here as well for consistency, though it's not strictly necessary without a backward pass\n",
        "            with autocast(enabled=(device.type == \"cuda\")):\n",
        "                logits = clf(imgs)\n",
        "                loss   = criterion(logits, labels)\n",
        "            val_loss += loss.item()\n",
        "            val_correct += (logits.argmax(1) == labels).sum().item()\n",
        "            val_total += labels.size(0)\n",
        "            pbar_val.set_postfix(acc=100*val_correct/val_total)\n",
        "\n",
        "    test_losses.append(val_loss / len(test_loader))\n",
        "    val_acc = 100 * val_correct / val_total\n",
        "    test_accs.append(val_acc)\n",
        "\n",
        "\n",
        "    if val_acc > best_acc:\n",
        "        best_acc = val_acc\n",
        "        torch.save(clf.state_dict(), os.path.join(SAVE_DIR, \"best_spatiotemporal_classifier.pt\"))\n",
        "        print(f\"Epoch {ep+1} | New best accuracy: {best_acc:.2f}% | Model saved.\")\n",
        "\n",
        "    print(f\"Epoch {ep+1}/{clf_epochs}: Train Acc {train_accs[-1]:.2f}% | Val Acc {val_acc:.2f}% (Best: {best_acc:.2f}%)\")\n",
        "\n",
        "print(\"\\nFine-tuning complete.\")"
      ]
    },
    {
      "cell_type": "code",
      "execution_count": null,
      "metadata": {
        "id": "GUJieCmtZza1",
        "colab": {
          "base_uri": "https://localhost:8080/",
          "height": 407
        },
        "outputId": "354170c1-af36-4072-8e37-1711be133bdc"
      },
      "outputs": [
        {
          "output_type": "display_data",
          "data": {
            "text/plain": [
              "<Figure size 1200x400 with 2 Axes>"
            ],
            "image/png": "[encoded data removed]"
          },
          "metadata": {}
        }
      ],
      "source": [
        "# ----------------------------------------------------\n",
        "# 9. Plots\n",
        "# ----------------------------------------------------\n",
        "plt.figure(figsize=(12,4))\n",
        "plt.subplot(1,2,1)\n",
        "plt.plot(train_losses,label='train'); plt.plot(test_losses,label='test'); plt.title('Loss'); plt.legend(); plt.grid()\n",
        "plt.subplot(1,2,2)\n",
        "plt.plot(train_accs,label='train'); plt.plot(test_accs,label='test'); plt.title('Accuracy'); plt.legend(); plt.grid()\n",
        "plt.tight_layout(); plt.show()"
      ]
    },
    {
      "cell_type": "code",
      "execution_count": null,
      "metadata": {
        "id": "5WXupFxVaITb"
      },
      "outputs": [],
      "source": [
        "print(\"completed\")"
      ]
    }
  ],
  "metadata": {
    "accelerator": "GPU",
    "colab": {
      "gpuType": "T4",
      "provenance": [],
      "include_colab_link": true
    },
    "kernelspec": {
      "display_name": "Python 3",
      "name": "python3"
    },
    "language_info": {
      "name": "python"
    }
  },
  "nbformat": 4,
  "nbformat_minor": 0
}