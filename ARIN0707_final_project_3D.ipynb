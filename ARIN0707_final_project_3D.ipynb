{
  "nbformat": 4,
  "nbformat_minor": 0,
  "metadata": {
    "colab": {
      "provenance": [],
      "gpuType": "T4",
      "authorship_tag": "ABX9TyNkUvP+RmopjhLrGPx+m5Wd",
      "include_colab_link": true
    },
    "kernelspec": {
      "name": "python3",
      "display_name": "Python 3"
    },
    "language_info": {
      "name": "python"
    },
    "accelerator": "GPU"
  },
  "cells": [
    {
      "cell_type": "markdown",
      "metadata": {
        "id": "view-in-github",
        "colab_type": "text"
      },
      "source": [
        "<a href=\"https://colab.research.google.com/github/Kazi-Rakib-Hasan-Jawwad/fMRI_Project/blob/main/ARIN0707_final_project_3D.ipynb\" target=\"_parent\"><img src=\"https://colab.research.google.com/assets/colab-badge.svg\" alt=\"Open In Colab\"/></a>"
      ]
    },
    {
      "cell_type": "markdown",
      "source": [
        "#**Change the Colab setting as below before running** <br>\n",
        "**Runtime --> Change Runtime Type --> Hardware accelerator: T4 GPU**"
      ],
      "metadata": {
        "id": "RJaqCbX0Td_u"
      }
    },
    {
      "cell_type": "markdown",
      "source": [
        "Lightweight 3‑D Vision Transformer + Masked‑Autoencoder (MAE) for fMRI\n",
        "=====================================================================\n",
        "Clean Colab‑ready script that:\n",
        "• Loads the HCP_emotion_4D_sample.mat set (pre‑split 3200/800)\n",
        "• Self‑supervised MAE pre‑trains a ViT encoder on 3‑D patches\n",
        "• Fine‑tunes the encoder for binary Face vs Shape classification\n",
        "\n",
        "Author: Kazi Rakib Hasan\n",
        "\n",
        "Student ID: 2022427248\n",
        "\n",
        "\n",
        "Licence: CC BY-NC 4.0"
      ],
      "metadata": {
        "id": "wm3GkYVSTgW2"
      }
    },
    {
      "cell_type": "code",
      "execution_count": 19,
      "metadata": {
        "id": "f15LmtBxTRAU"
      },
      "outputs": [],
      "source": [
        "import os, sys, math, random\n",
        "import numpy as np\n",
        "import torch, torch.nn as nn, torch.nn.functional as F\n",
        "from torch.utils.data import Dataset, DataLoader\n",
        "import torch.optim as optim\n",
        "from torch.cuda.amp import autocast, GradScaler\n",
        "import matplotlib.pyplot as plt\n",
        "from scipy.io import loadmat\n",
        "from tqdm import tqdm\n",
        "from sklearn.metrics import confusion_matrix, classification_report, ConfusionMatrixDisplay"
      ]
    },
    {
      "cell_type": "code",
      "source": [
        "# --- FIX for Circular Import Error in some Pytorch/Colab versions ---\n",
        "# Disabling torch.compile to avoid an error.\n",
        "if hasattr(torch, 'compiler'):\n",
        "    torch.compiler.disable()"
      ],
      "metadata": {
        "id": "y-GheK0QWBme"
      },
      "execution_count": 20,
      "outputs": []
    },
    {
      "cell_type": "code",
      "source": [
        "# ----------------------------------------------------\n",
        "# Setup and Configuration\n",
        "# ----------------------------------------------------\n",
        "SEED = 42\n",
        "random.seed(SEED)\n",
        "np.random.seed(SEED)\n",
        "torch.manual_seed(SEED)\n",
        "torch.cuda.manual_seed_all(SEED)\n",
        "os.environ[\"CUDA_VISIBLE_DEVICES\"] = \"0\"\n",
        "device = torch.device('cuda' if torch.cuda.is_available() else 'cpu')\n",
        "print(f\"Using device: {device}\")"
      ],
      "metadata": {
        "colab": {
          "base_uri": "https://localhost:8080/"
        },
        "id": "EET9N7DaTpnv",
        "outputId": "ad45bd9f-2e56-4990-9a39-dc1d3e45424b"
      },
      "execution_count": 3,
      "outputs": [
        {
          "output_type": "stream",
          "name": "stdout",
          "text": [
            "Using device: cuda\n"
          ]
        }
      ]
    },
    {
      "cell_type": "code",
      "source": [
        "# ----------------------------------------------------\n",
        "# Mount Google drive\n",
        "# ----------------------------------------------------\n",
        "\n",
        "from google.colab import drive\n",
        "\n",
        "drive.mount('/content/drive')\n",
        "gdrive_dir = 'ARIN0707_project'\n",
        "\n",
        "if not os.path.exists('/content/drive/My Drive/' + gdrive_dir):\n",
        "  os.makedirs('/content/drive/My Drive/' + gdrive_dir)\n",
        "\n",
        "os.chdir('/content/drive/My Drive/' + gdrive_dir)\n",
        "\n",
        "data_path = '/content/drive/My Drive/' + gdrive_dir\n",
        "\n",
        "ROOT = '/content/drive/My Drive/' + gdrive_dir\n",
        "os.chdir(ROOT)\n",
        "\n",
        "print(f\"Project root: {ROOT}\")\n",
        "\n",
        "# Always‑valid directory for saving checkpoints\n",
        "SAVE_DIR = ROOT if os.path.isdir(ROOT) else os.getcwd()\n",
        "\n",
        "print(data_path)"
      ],
      "metadata": {
        "colab": {
          "base_uri": "https://localhost:8080/"
        },
        "id": "AFUCbZtOTuRH",
        "outputId": "bcd5580c-ae1b-457a-c046-fba7b2cb9f70"
      },
      "execution_count": 21,
      "outputs": [
        {
          "output_type": "stream",
          "name": "stdout",
          "text": [
            "Drive already mounted at /content/drive; to attempt to forcibly remount, call drive.mount(\"/content/drive\", force_remount=True).\n",
            "Project root: /content/drive/My Drive/ARIN0707_project\n",
            "/content/drive/My Drive/ARIN0707_project\n"
          ]
        }
      ]
    },
    {
      "cell_type": "code",
      "source": [
        "# ----------------------------------------------------\n",
        "# Download dataset\n",
        "# ----------------------------------------------------\n",
        "\n",
        "if not os.path.exists(data_path + '/HCP_emotion_4D_sample.mat'):\n",
        "  !pip install pydrive\n",
        "  print('\\n\\n')\n",
        "  from pydrive.auth import GoogleAuth\n",
        "  from pydrive.drive import GoogleDrive\n",
        "  from google.colab import auth\n",
        "  from oauth2client.client import GoogleCredentials\n",
        "  auth.authenticate_user()\n",
        "  gauth = GoogleAuth()\n",
        "  gauth.credentials = GoogleCredentials.get_application_default()\n",
        "  gdrive = GoogleDrive(gauth)\n",
        "\n",
        "  # Download the data with Google Drive link\n",
        "  # Download takes about 5 mins.\n",
        "  img_file = gdrive.CreateFile({'id':'1OZQW_KkOsn_3-CsLHB018T_3V3huGB7E'})\n",
        "  img_file.GetContentFile(data_path + '/HCP_emotion_4D_sample.mat')"
      ],
      "metadata": {
        "id": "GHPEkDL4T1Yh"
      },
      "execution_count": 5,
      "outputs": []
    },
    {
      "cell_type": "code",
      "source": [
        "# ----------------------------------------------------\n",
        "# Load Data from Google Drive\n",
        "# ----------------------------------------------------\n",
        "\n",
        "data = loadmat(data_path + '/HCP_emotion_4D_sample.mat')\n",
        "\n",
        "# Train: 3200, Test: 800\n",
        "# Report your model's performance only on designated testset (800 samples)\n",
        "# You are not allowed to mix data samples between the predefined train / test datasets.\n",
        "\n",
        "X_train = data['X_train']\n",
        "y_train = data['y_train']\n",
        "ids_train = data['ids_train']\n",
        "\n",
        "X_test = data['X_test']\n",
        "y_test = data['y_test']\n",
        "ids_test = data['ids_test']\n",
        "\n",
        "del data\n",
        "# Check data shape\n",
        "\n",
        "print('X_train shape: ', X_train.shape)\n",
        "print('y_train shape: ', y_train.shape)\n",
        "print('ids_train shape: ', ids_train.shape)\n",
        "\n",
        "print('\\n')\n",
        "\n",
        "print('X_test shape: ', X_test.shape)\n",
        "print('y_test shape: ', y_test.shape)\n",
        "print('ids_test shape: ', ids_test.shape)"
      ],
      "metadata": {
        "colab": {
          "base_uri": "https://localhost:8080/"
        },
        "id": "dylHgbE9T5u4",
        "outputId": "b4585267-c4be-49ae-f56f-a1d2783bf7da"
      },
      "execution_count": 6,
      "outputs": [
        {
          "output_type": "stream",
          "name": "stdout",
          "text": [
            "X_train shape:  (3200, 53, 63, 46)\n",
            "y_train shape:  (3200, 1)\n",
            "ids_train shape:  (3200,)\n",
            "\n",
            "\n",
            "X_test shape:  (800, 53, 63, 46)\n",
            "y_test shape:  (800, 1)\n",
            "ids_test shape:  (800,)\n"
          ]
        }
      ]
    },
    {
      "cell_type": "code",
      "source": [
        "# Custom Dataset Class\n",
        "\n",
        "class DynamicFMRI_Dataset(Dataset):\n",
        "    def __init__(self, X, y, augment_ratio=0.0, normalize=False):\n",
        "        self.X_original = torch.from_numpy(X).float()\n",
        "        self.y_original = torch.from_numpy(y).long()\n",
        "        self.normalize = normalize\n",
        "\n",
        "        self.original_size = len(self.X_original)\n",
        "        self.do_augment = augment_ratio > 0\n",
        "        self.augmentation_indices = None\n",
        "\n",
        "        if self.do_augment:\n",
        "            self.num_to_augment = int(self.original_size * augment_ratio)\n",
        "            all_indices = np.arange(self.original_size)\n",
        "            np.random.shuffle(all_indices)\n",
        "            self.augmentation_indices = torch.from_numpy(all_indices[:self.num_to_augment])\n",
        "            print(f\"Created dataset with {self.num_to_augment} on-the-fly augmented samples.\")\n",
        "\n",
        "\n",
        "    def __len__(self):\n",
        "        return self.original_size + self.num_to_augment if self.do_augment else self.original_size\n",
        "\n",
        "    def __getitem__(self, idx):\n",
        "        if not self.do_augment or idx < self.original_size:\n",
        "            x_item = self.X_original[idx]\n",
        "            y_item = self.y_original[idx]\n",
        "        else:\n",
        "            # This check ensures self.augmentation_indices is not None before subscripting\n",
        "            if self.augmentation_indices is not None:\n",
        "                mapped_idx = self.augmentation_indices[idx - self.original_size]\n",
        "                x_item = self.X_original[mapped_idx]\n",
        "                y_item = self.y_original[mapped_idx]\n",
        "                x_item = torch.flip(x_item, dims=[-1])\n",
        "            else:\n",
        "                # This case should not be reached with the corrected __init__\n",
        "                raise RuntimeError(\"Augmentation indices are not initialized!\")\n",
        "\n",
        "\n",
        "        if self.normalize:\n",
        "            mean = x_item.mean()\n",
        "            std = x_item.std()\n",
        "            if std > 1e-6:\n",
        "                x_item = (x_item - mean) / std\n",
        "        return x_item, y_item"
      ],
      "metadata": {
        "id": "RNdeGaGlVAd3"
      },
      "execution_count": 7,
      "outputs": []
    },
    {
      "cell_type": "code",
      "source": [
        "# Dataloader\n",
        "\n",
        "batch_size = 8\n",
        "train_dataset = DynamicFMRI_Dataset(X_train, y_train, augment_ratio=0.1, normalize=True)\n",
        "train_loader = DataLoader(train_dataset, batch_size, shuffle=True, num_workers=2, pin_memory=True)\n",
        "\n",
        "test_dataset  = DynamicFMRI_Dataset(X_test,  y_test, augment_ratio=0.0, normalize=True)\n",
        "test_loader = DataLoader(test_dataset, batch_size, shuffle=False, num_workers=2, pin_memory=True)\n",
        "\n",
        "_, img_depth, img_height, img_width = X_train.shape\n",
        "del X_train, y_train, X_test, y_test"
      ],
      "metadata": {
        "colab": {
          "base_uri": "https://localhost:8080/"
        },
        "id": "oZ05j4D7VDG3",
        "outputId": "a951381d-8132-4dad-b4cb-d7092279c4a5"
      },
      "execution_count": 8,
      "outputs": [
        {
          "output_type": "stream",
          "name": "stdout",
          "text": [
            "Created dataset with 320 on-the-fly augmented samples.\n"
          ]
        }
      ]
    },
    {
      "cell_type": "markdown",
      "source": [
        "#**Main Model**"
      ],
      "metadata": {
        "id": "TbzOa2YSVaES"
      }
    },
    {
      "cell_type": "code",
      "source": [
        "# ----------------------------------------------------\n",
        "# 2D Patch Embedding for spatial slices\n",
        "# ----------------------------------------------------\n",
        "\n",
        "class PatchEmbedding2D(nn.Module):\n",
        "    def __init__(self, img_size, patch_size, in_channels, d_model):\n",
        "        super().__init__()\n",
        "        self.img_h, self.img_w = img_size\n",
        "        self.ph, self.pw = patch_size\n",
        "        self.num_patches = (self.img_h // self.ph) * (self.img_w // self.pw)\n",
        "\n",
        "        self.proj = nn.Conv2d(in_channels, d_model, kernel_size=patch_size, stride=patch_size)\n",
        "        self.cls_token = nn.Parameter(torch.zeros(1, 1, d_model))\n",
        "        self.pos_embed = nn.Parameter(torch.zeros(1, self.num_patches + 1, d_model))\n",
        "        nn.init.normal_(self.cls_token, std=0.02)\n",
        "        nn.init.normal_(self.pos_embed, std=0.02)\n",
        "\n",
        "    def forward(self, x): # x: (B, C, H, W)\n",
        "        x = self.proj(x).flatten(2).transpose(1, 2) # (B, N, d_model)\n",
        "        cls = self.cls_token.expand(x.size(0), -1, -1)\n",
        "        x = torch.cat((cls, x), 1) + self.pos_embed\n",
        "        return x # (B, N+1, d_model)"
      ],
      "metadata": {
        "id": "SIixylyCVlgL"
      },
      "execution_count": 9,
      "outputs": []
    },
    {
      "cell_type": "code",
      "source": [
        "# ----------------------------------------------------\n",
        "# Transformer Encoder / Decoder\n",
        "# ----------------------------------------------------\n",
        "\n",
        "# ViT Encoder for Spatial Feature Extraction\n",
        "class ViTEncoder(nn.Module):\n",
        "    def __init__(self, d_model, n_layers, nhead, dropout):\n",
        "        super().__init__()\n",
        "        layer = nn.TransformerEncoderLayer(d_model, nhead, d_model * 4, dropout, batch_first=True, norm_first=True)\n",
        "        self.encoder = nn.TransformerEncoder(layer, n_layers)\n",
        "    def forward(self, x):\n",
        "        return self.encoder(x)\n",
        "\n",
        "# Temporal Transformer\n",
        "class TemporalTransformer(nn.Module):\n",
        "    def __init__(self, d_model, n_layers, nhead, dropout):\n",
        "        super().__init__()\n",
        "        layer = nn.TransformerEncoderLayer(d_model, nhead, d_model * 2, dropout, batch_first=True, norm_first=True)\n",
        "        self.tfl = nn.TransformerEncoder(layer, n_layers)\n",
        "        self.norm = nn.LayerNorm(d_model)\n",
        "\n",
        "    def forward(self, x): # x: (B, T, D) where T is sequence length\n",
        "        return self.norm(self.tfl(x))\n",
        "\n",
        "\n",
        "# MAE Decoder for 2D Patches\n",
        "class MAEDecoder2D(nn.Module):\n",
        "    def __init__(self, d_model, patch_dim, n_layers, nhead, dropout):\n",
        "        super().__init__()\n",
        "        layer = nn.TransformerEncoderLayer(d_model, nhead, d_model * 2, dropout, batch_first=True)\n",
        "        self.decoder = nn.TransformerEncoder(layer, n_layers)\n",
        "        self.out = nn.Linear(d_model, patch_dim)\n",
        "    def forward(self, x):\n",
        "        return self.out(self.decoder(x))"
      ],
      "metadata": {
        "id": "C0yez4xvVspD"
      },
      "execution_count": 10,
      "outputs": []
    },
    {
      "cell_type": "code",
      "source": [
        "# ----------------------------------------------------\n",
        "# Masked Autoencoder\n",
        "# ----------------------------------------------------\n",
        "class MAEforSlices(nn.Module):\n",
        "    def __init__(self, img_size, patch_size, in_channels, d_model, n_enc, n_dec, nhead, dropout, mask_ratio):\n",
        "        super().__init__()\n",
        "        self.patch_embed = PatchEmbedding2D(img_size, patch_size, in_channels, d_model)\n",
        "        self.encoder = ViTEncoder(d_model, n_enc, nhead, dropout)\n",
        "        self.mask_ratio = mask_ratio\n",
        "        self.d_model = d_model\n",
        "        self.N = self.patch_embed.num_patches\n",
        "        self.patch_dim = int(np.prod(patch_size) * in_channels)\n",
        "        self.mask_token = nn.Parameter(torch.zeros(1, 1, d_model))\n",
        "        self.decoder = MAEDecoder2D(d_model, self.patch_dim, n_layers=n_dec, nhead=nhead, dropout=dropout)\n",
        "\n",
        "        # Create and initialize a positional embedding for the decoder\n",
        "        self.decoder_pos_embed = nn.Parameter(torch.zeros(1, self.N, d_model))\n",
        "        nn.init.normal_(self.decoder_pos_embed, std=0.02)\n",
        "        nn.init.normal_(self.mask_token, std=0.02)\n",
        "\n",
        "\n",
        "    def forward_loss(self, pred, target, mask):\n",
        "        mean = target.mean(dim=-1, keepdim=True)\n",
        "        var = target.var(dim=-1, keepdim=True)\n",
        "        target = (target - mean) / (var + 1.e-6)**.5\n",
        "        target_masked = target.gather(1, mask.unsqueeze(-1).expand(-1, -1, self.patch_dim))\n",
        "        pred_masked = pred.gather(1, mask.unsqueeze(-1).expand(-1, -1, self.patch_dim))\n",
        "        return F.mse_loss(pred_masked, target_masked)\n",
        "\n",
        "    def forward(self, x_2d):\n",
        "        B, H, W = x_2d.shape\n",
        "        x = x_2d.unsqueeze(1)\n",
        "        seq = self.patch_embed(x)\n",
        "        cls, patches = seq[:, :1], seq[:, 1:]\n",
        "        with torch.no_grad():\n",
        "            target_patches = x.unfold(2, self.patch_embed.ph, self.patch_embed.ph).unfold(3, self.patch_embed.pw, self.patch_embed.pw)\n",
        "            target_patches = target_patches.contiguous().view(B, -1, self.patch_dim)\n",
        "        num_mask = int(self.N * self.mask_ratio)\n",
        "        ids_shuffle = torch.rand(B, self.N, device=x.device).argsort(dim=1)\n",
        "        ids_restore = ids_shuffle.argsort(dim=1)\n",
        "        ids_mask = ids_shuffle[:, :num_mask]\n",
        "        ids_keep = ids_shuffle[:, num_mask:]\n",
        "        patches_keep = patches.gather(1, ids_keep.unsqueeze(-1).expand(-1, -1, self.d_model))\n",
        "        enc_in = torch.cat([cls, patches_keep], 1)\n",
        "        enc_out = self.encoder(enc_in)\n",
        "        mask_tokens = self.mask_token.expand(B, num_mask, -1)\n",
        "        dec_in_full = torch.cat([enc_out[:, 1:], mask_tokens], 1)\n",
        "        dec_in = dec_in_full.gather(1, ids_restore.unsqueeze(-1).expand(-1, -1, self.d_model))\n",
        "\n",
        "        # Add the decoder positional embedding to the decoder input\n",
        "        recon = self.decoder(dec_in + self.decoder_pos_embed)\n",
        "        return self.forward_loss(recon, target_patches, ids_mask)"
      ],
      "metadata": {
        "id": "aJ65AFL4VxU8"
      },
      "execution_count": 11,
      "outputs": []
    },
    {
      "cell_type": "code",
      "source": [
        "# ----------------------------------------------------\n",
        "# Spatio-Temporal Classifier\n",
        "# ----------------------------------------------------\n",
        "class SpatioTemporalClassifier(nn.Module):\n",
        "    def __init__(self, img_size, time_steps, patch_size, in_channels, d_model,\n",
        "                 n_spatial_enc, n_temporal_enc, nhead_spatial, nhead_temporal, dropout, n_classes):\n",
        "        super().__init__()\n",
        "        self.d_model = d_model\n",
        "        # 1. Spatial Encoder (processes each slice)\n",
        "        self.patch_embed = PatchEmbedding2D(img_size, patch_size, in_channels, d_model)\n",
        "        self.spatial_encoder = ViTEncoder(d_model, n_spatial_enc, nhead_spatial, dropout)\n",
        "        # 2. Temporal Encoder (processes sequence of slice representations)\n",
        "        # Adding temporal positional embedding\n",
        "        self.temporal_pos_embed = nn.Parameter(torch.zeros(1, time_steps, d_model))\n",
        "        nn.init.normal_(self.temporal_pos_embed, std=0.02)\n",
        "        self.temporal_encoder = TemporalTransformer(d_model, n_temporal_enc, nhead_temporal, dropout)\n",
        "        # 3. Predictor\n",
        "        self.predictor = nn.Sequential(\n",
        "            nn.LayerNorm(d_model),\n",
        "            nn.Linear(d_model, d_model // 2),\n",
        "            nn.GELU(),\n",
        "            nn.Dropout(dropout),\n",
        "            nn.Linear(d_model // 2, n_classes)\n",
        "        )\n",
        "\n",
        "    def forward(self, x): # x: (B, D, H, W)\n",
        "        B, D, H, W = x.shape\n",
        "        x_slices = x.view(B * D, H, W).unsqueeze(1) # -> (B*D, 1, H, W)\n",
        "\n",
        "        # Spatial encoding for each slice\n",
        "        spatial_seq = self.patch_embed(x_slices)    # (B*D, N_2d+1, d)\n",
        "        spatial_out = self.spatial_encoder(spatial_seq) # (B*D, N_2d+1, d)\n",
        "        slice_repr = spatial_out[:, 0]              # Get CLS token -> (B*D, d)\n",
        "\n",
        "        # Form temporal sequence\n",
        "        temporal_seq = slice_repr.view(B, D, self.d_model) # -> (B, D, d)\n",
        "        temporal_seq += self.temporal_pos_embed # Add temporal pos encoding\n",
        "\n",
        "        # Temporal encoding\n",
        "        temporal_out = self.temporal_encoder(temporal_seq) # -> (B, D, d)\n",
        "\n",
        "        # Predictor: Mean pool over time dimension\n",
        "        pooled_out = temporal_out.mean(dim=1) # -> (B, d)\n",
        "        logits = self.predictor(pooled_out)\n",
        "        return logits"
      ],
      "metadata": {
        "id": "DjZvBOZFV37k"
      },
      "execution_count": 12,
      "outputs": []
    },
    {
      "cell_type": "code",
      "source": [
        "# ----------------------------------------------------\n",
        "# Hyperparameters\n",
        "# ----------------------------------------------------\n",
        "# Architectural params\n",
        "patch_size_2d = (7, 2) #\n",
        "d_model    = 192\n",
        "n_spatial_enc = 4\n",
        "n_dec_mae = 2\n",
        "n_temporal_enc = 2\n",
        "\n",
        "# Spatial and temporal components\n",
        "nhead_spatial = 8\n",
        "nhead_temporal = 8\n",
        "\n",
        "# Training params\n",
        "dropout    = 0.1\n",
        "mask_ratio = 0.65\n",
        "num_classes= 2\n",
        "mae_epochs = 100\n",
        "clf_epochs = 20\n",
        "mae_lr     = 1.5e-3\n",
        "clf_lr     = 3e-4\n",
        "warmup_epochs = 5"
      ],
      "metadata": {
        "id": "O0NyO3JFV-BN"
      },
      "execution_count": 13,
      "outputs": []
    },
    {
      "cell_type": "code",
      "source": [
        "# ----------------------------------------------------\n",
        "# Pre‑train MAE\n",
        "# ----------------------------------------------------\n",
        "print(\"\\n--- Starting MAE Pre-training on 2D Slices ---\")\n",
        "mae = MAEforSlices(\n",
        "    (img_height, img_width), patch_size_2d, 1, d_model,\n",
        "    n_spatial_enc, n_dec_mae, nhead_spatial, dropout, mask_ratio\n",
        ").to(device)\n",
        "\n",
        "opt_mae = optim.AdamW(mae.parameters(), lr=mae_lr, betas=(0.9, 0.95), weight_decay=0.05)\n",
        "\n",
        "def get_lr(it, total_it, warmup_it):\n",
        "    if it < warmup_it:\n",
        "        return mae_lr * it / warmup_it\n",
        "    if it > total_it:\n",
        "        return 1e-6\n",
        "    decay_ratio = (it - warmup_it) / (total_it - warmup_it)\n",
        "    assert 0 <= decay_ratio <= 1\n",
        "    coeff = 0.5 * (1.0 + math.cos(math.pi * decay_ratio))\n",
        "    return 1e-6 + coeff * (mae_lr - 1e-6)\n",
        "\n",
        "scaler = GradScaler(enabled=(device.type == 'cuda'))\n",
        "total_iterations = mae_epochs * len(train_loader)\n",
        "warmup_iterations = warmup_epochs * len(train_loader)\n",
        "it_num = 0\n",
        "\n",
        "mae_losses = []\n",
        "\n",
        "for ep in range(mae_epochs):\n",
        "    mae.train()\n",
        "    total_loss = 0\n",
        "    lr = 0.0\n",
        "    pbar = tqdm(train_loader, desc=f\"MAE Ep {ep+1}/{mae_epochs}\")\n",
        "    for imgs, _ in pbar:\n",
        "        lr = get_lr(it_num, total_iterations, warmup_iterations)\n",
        "        for param_group in opt_mae.param_groups:\n",
        "            param_group['lr'] = lr\n",
        "        imgs = imgs.to(device)\n",
        "        slices = imgs.view(-1, img_height, img_width)\n",
        "        opt_mae.zero_grad(set_to_none=True)\n",
        "        with autocast(enabled=(device.type == 'cuda')):\n",
        "            loss = mae(slices)\n",
        "        scaler.scale(loss).backward()\n",
        "        scaler.step(opt_mae)\n",
        "        scaler.update()\n",
        "        total_loss += loss.item()\n",
        "        pbar.set_postfix(loss=loss.item(), lr=lr)\n",
        "        it_num += 1\n",
        "\n",
        "    avg_loss = total_loss / len(train_loader)\n",
        "    mae_losses.append(avg_loss)\n",
        "    print(f\"MAE Epoch {ep+1}/{mae_epochs} | Avg Loss: {avg_loss:.4f} | Final LR: {lr:.2e}\")\n",
        "\n",
        "print(\"MAE pre-training done.\\n\")"
      ],
      "metadata": {
        "colab": {
          "base_uri": "https://localhost:8080/"
        },
        "id": "L4p5bl9GWJKP",
        "outputId": "a8abe8d7-2060-41ad-88a8-5661b6547d88"
      },
      "execution_count": 14,
      "outputs": [
        {
          "output_type": "stream",
          "name": "stdout",
          "text": [
            "\n",
            "--- Starting MAE Pre-training on 2D Slices ---\n"
          ]
        },
        {
          "output_type": "stream",
          "name": "stderr",
          "text": [
            "/usr/local/lib/python3.11/dist-packages/torch/nn/modules/transformer.py:385: UserWarning: enable_nested_tensor is True, but self.use_nested_tensor is False because encoder_layer.norm_first was True\n",
            "  warnings.warn(\n",
            "/tmp/ipython-input-14-1301020322.py:22: FutureWarning: `torch.cuda.amp.GradScaler(args...)` is deprecated. Please use `torch.amp.GradScaler('cuda', args...)` instead.\n",
            "  scaler = GradScaler(enabled=(device.type == 'cuda'))\n",
            "MAE Ep 1/100:   0%|          | 0/440 [00:00<?, ?it/s]/tmp/ipython-input-14-1301020322.py:41: FutureWarning: `torch.cuda.amp.autocast(args...)` is deprecated. Please use `torch.amp.autocast('cuda', args...)` instead.\n",
            "  with autocast(enabled=(device.type == 'cuda')):\n",
            "MAE Ep 1/100: 100%|██████████| 440/440 [01:42<00:00,  4.28it/s, loss=0.4, lr=0.000299]\n"
          ]
        },
        {
          "output_type": "stream",
          "name": "stdout",
          "text": [
            "MAE Epoch 1/100 | Avg Loss: 0.4193 | Final LR: 2.99e-04\n"
          ]
        },
        {
          "output_type": "stream",
          "name": "stderr",
          "text": [
            "MAE Ep 2/100: 100%|██████████| 440/440 [01:41<00:00,  4.34it/s, loss=0.395, lr=0.000599]\n"
          ]
        },
        {
          "output_type": "stream",
          "name": "stdout",
          "text": [
            "MAE Epoch 2/100 | Avg Loss: 0.3968 | Final LR: 5.99e-04\n"
          ]
        },
        {
          "output_type": "stream",
          "name": "stderr",
          "text": [
            "MAE Ep 3/100: 100%|██████████| 440/440 [01:39<00:00,  4.40it/s, loss=0.394, lr=0.000899]\n"
          ]
        },
        {
          "output_type": "stream",
          "name": "stdout",
          "text": [
            "MAE Epoch 3/100 | Avg Loss: 0.3953 | Final LR: 8.99e-04\n"
          ]
        },
        {
          "output_type": "stream",
          "name": "stderr",
          "text": [
            "MAE Ep 4/100: 100%|██████████| 440/440 [01:39<00:00,  4.40it/s, loss=0.391, lr=0.0012]\n"
          ]
        },
        {
          "output_type": "stream",
          "name": "stdout",
          "text": [
            "MAE Epoch 4/100 | Avg Loss: 0.3920 | Final LR: 1.20e-03\n"
          ]
        },
        {
          "output_type": "stream",
          "name": "stderr",
          "text": [
            "MAE Ep 5/100: 100%|██████████| 440/440 [01:39<00:00,  4.41it/s, loss=0.374, lr=0.0015]\n"
          ]
        },
        {
          "output_type": "stream",
          "name": "stdout",
          "text": [
            "MAE Epoch 5/100 | Avg Loss: 0.3845 | Final LR: 1.50e-03\n"
          ]
        },
        {
          "output_type": "stream",
          "name": "stderr",
          "text": [
            "MAE Ep 6/100: 100%|██████████| 440/440 [01:39<00:00,  4.41it/s, loss=0.339, lr=0.0015]\n"
          ]
        },
        {
          "output_type": "stream",
          "name": "stdout",
          "text": [
            "MAE Epoch 6/100 | Avg Loss: 0.3630 | Final LR: 1.50e-03\n"
          ]
        },
        {
          "output_type": "stream",
          "name": "stderr",
          "text": [
            "MAE Ep 7/100: 100%|██████████| 440/440 [01:40<00:00,  4.39it/s, loss=0.289, lr=0.0015]\n"
          ]
        },
        {
          "output_type": "stream",
          "name": "stdout",
          "text": [
            "MAE Epoch 7/100 | Avg Loss: 0.3087 | Final LR: 1.50e-03\n"
          ]
        },
        {
          "output_type": "stream",
          "name": "stderr",
          "text": [
            "MAE Ep 8/100: 100%|██████████| 440/440 [01:39<00:00,  4.41it/s, loss=0.263, lr=0.0015]\n"
          ]
        },
        {
          "output_type": "stream",
          "name": "stdout",
          "text": [
            "MAE Epoch 8/100 | Avg Loss: 0.2752 | Final LR: 1.50e-03\n"
          ]
        },
        {
          "output_type": "stream",
          "name": "stderr",
          "text": [
            "MAE Ep 9/100: 100%|██████████| 440/440 [01:40<00:00,  4.40it/s, loss=0.256, lr=0.00149]\n"
          ]
        },
        {
          "output_type": "stream",
          "name": "stdout",
          "text": [
            "MAE Epoch 9/100 | Avg Loss: 0.2607 | Final LR: 1.49e-03\n"
          ]
        },
        {
          "output_type": "stream",
          "name": "stderr",
          "text": [
            "MAE Ep 10/100: 100%|██████████| 440/440 [01:39<00:00,  4.41it/s, loss=0.247, lr=0.00149]\n"
          ]
        },
        {
          "output_type": "stream",
          "name": "stdout",
          "text": [
            "MAE Epoch 10/100 | Avg Loss: 0.2526 | Final LR: 1.49e-03\n"
          ]
        },
        {
          "output_type": "stream",
          "name": "stderr",
          "text": [
            "MAE Ep 11/100: 100%|██████████| 440/440 [01:39<00:00,  4.40it/s, loss=0.249, lr=0.00149]\n"
          ]
        },
        {
          "output_type": "stream",
          "name": "stdout",
          "text": [
            "MAE Epoch 11/100 | Avg Loss: 0.2465 | Final LR: 1.49e-03\n"
          ]
        },
        {
          "output_type": "stream",
          "name": "stderr",
          "text": [
            "MAE Ep 12/100: 100%|██████████| 440/440 [01:40<00:00,  4.39it/s, loss=0.251, lr=0.00148]\n"
          ]
        },
        {
          "output_type": "stream",
          "name": "stdout",
          "text": [
            "MAE Epoch 12/100 | Avg Loss: 0.2419 | Final LR: 1.48e-03\n"
          ]
        },
        {
          "output_type": "stream",
          "name": "stderr",
          "text": [
            "MAE Ep 13/100: 100%|██████████| 440/440 [01:39<00:00,  4.41it/s, loss=0.239, lr=0.00147]\n"
          ]
        },
        {
          "output_type": "stream",
          "name": "stdout",
          "text": [
            "MAE Epoch 13/100 | Avg Loss: 0.2382 | Final LR: 1.47e-03\n"
          ]
        },
        {
          "output_type": "stream",
          "name": "stderr",
          "text": [
            "MAE Ep 14/100: 100%|██████████| 440/440 [01:39<00:00,  4.41it/s, loss=0.228, lr=0.00147]\n"
          ]
        },
        {
          "output_type": "stream",
          "name": "stdout",
          "text": [
            "MAE Epoch 14/100 | Avg Loss: 0.2349 | Final LR: 1.47e-03\n"
          ]
        },
        {
          "output_type": "stream",
          "name": "stderr",
          "text": [
            "MAE Ep 15/100: 100%|██████████| 440/440 [01:39<00:00,  4.41it/s, loss=0.228, lr=0.00146]\n"
          ]
        },
        {
          "output_type": "stream",
          "name": "stdout",
          "text": [
            "MAE Epoch 15/100 | Avg Loss: 0.2318 | Final LR: 1.46e-03\n"
          ]
        },
        {
          "output_type": "stream",
          "name": "stderr",
          "text": [
            "MAE Ep 16/100: 100%|██████████| 440/440 [01:40<00:00,  4.40it/s, loss=0.227, lr=0.00145]\n"
          ]
        },
        {
          "output_type": "stream",
          "name": "stdout",
          "text": [
            "MAE Epoch 16/100 | Avg Loss: 0.2291 | Final LR: 1.45e-03\n"
          ]
        },
        {
          "output_type": "stream",
          "name": "stderr",
          "text": [
            "MAE Ep 17/100: 100%|██████████| 440/440 [01:40<00:00,  4.40it/s, loss=0.225, lr=0.00144]\n"
          ]
        },
        {
          "output_type": "stream",
          "name": "stdout",
          "text": [
            "MAE Epoch 17/100 | Avg Loss: 0.2267 | Final LR: 1.44e-03\n"
          ]
        },
        {
          "output_type": "stream",
          "name": "stderr",
          "text": [
            "MAE Ep 18/100: 100%|██████████| 440/440 [01:39<00:00,  4.42it/s, loss=0.218, lr=0.00143]\n"
          ]
        },
        {
          "output_type": "stream",
          "name": "stdout",
          "text": [
            "MAE Epoch 18/100 | Avg Loss: 0.2245 | Final LR: 1.43e-03\n"
          ]
        },
        {
          "output_type": "stream",
          "name": "stderr",
          "text": [
            "MAE Ep 19/100: 100%|██████████| 440/440 [01:39<00:00,  4.41it/s, loss=0.236, lr=0.00142]\n"
          ]
        },
        {
          "output_type": "stream",
          "name": "stdout",
          "text": [
            "MAE Epoch 19/100 | Avg Loss: 0.2226 | Final LR: 1.42e-03\n"
          ]
        },
        {
          "output_type": "stream",
          "name": "stderr",
          "text": [
            "MAE Ep 20/100: 100%|██████████| 440/440 [01:39<00:00,  4.41it/s, loss=0.212, lr=0.00141]\n"
          ]
        },
        {
          "output_type": "stream",
          "name": "stdout",
          "text": [
            "MAE Epoch 20/100 | Avg Loss: 0.2207 | Final LR: 1.41e-03\n"
          ]
        },
        {
          "output_type": "stream",
          "name": "stderr",
          "text": [
            "MAE Ep 21/100: 100%|██████████| 440/440 [01:40<00:00,  4.39it/s, loss=0.225, lr=0.0014]\n"
          ]
        },
        {
          "output_type": "stream",
          "name": "stdout",
          "text": [
            "MAE Epoch 21/100 | Avg Loss: 0.2190 | Final LR: 1.40e-03\n"
          ]
        },
        {
          "output_type": "stream",
          "name": "stderr",
          "text": [
            "MAE Ep 22/100: 100%|██████████| 440/440 [01:39<00:00,  4.41it/s, loss=0.222, lr=0.00138]\n"
          ]
        },
        {
          "output_type": "stream",
          "name": "stdout",
          "text": [
            "MAE Epoch 22/100 | Avg Loss: 0.2172 | Final LR: 1.38e-03\n"
          ]
        },
        {
          "output_type": "stream",
          "name": "stderr",
          "text": [
            "MAE Ep 23/100: 100%|██████████| 440/440 [01:39<00:00,  4.40it/s, loss=0.214, lr=0.00137]\n"
          ]
        },
        {
          "output_type": "stream",
          "name": "stdout",
          "text": [
            "MAE Epoch 23/100 | Avg Loss: 0.2159 | Final LR: 1.37e-03\n"
          ]
        },
        {
          "output_type": "stream",
          "name": "stderr",
          "text": [
            "MAE Ep 24/100: 100%|██████████| 440/440 [01:40<00:00,  4.40it/s, loss=0.212, lr=0.00136]\n"
          ]
        },
        {
          "output_type": "stream",
          "name": "stdout",
          "text": [
            "MAE Epoch 24/100 | Avg Loss: 0.2144 | Final LR: 1.36e-03\n"
          ]
        },
        {
          "output_type": "stream",
          "name": "stderr",
          "text": [
            "MAE Ep 25/100: 100%|██████████| 440/440 [01:40<00:00,  4.38it/s, loss=0.216, lr=0.00134]\n"
          ]
        },
        {
          "output_type": "stream",
          "name": "stdout",
          "text": [
            "MAE Epoch 25/100 | Avg Loss: 0.2133 | Final LR: 1.34e-03\n"
          ]
        },
        {
          "output_type": "stream",
          "name": "stderr",
          "text": [
            "MAE Ep 26/100: 100%|██████████| 440/440 [01:39<00:00,  4.40it/s, loss=0.217, lr=0.00133]\n"
          ]
        },
        {
          "output_type": "stream",
          "name": "stdout",
          "text": [
            "MAE Epoch 26/100 | Avg Loss: 0.2121 | Final LR: 1.33e-03\n"
          ]
        },
        {
          "output_type": "stream",
          "name": "stderr",
          "text": [
            "MAE Ep 27/100: 100%|██████████| 440/440 [01:39<00:00,  4.41it/s, loss=0.209, lr=0.00131]\n"
          ]
        },
        {
          "output_type": "stream",
          "name": "stdout",
          "text": [
            "MAE Epoch 27/100 | Avg Loss: 0.2108 | Final LR: 1.31e-03\n"
          ]
        },
        {
          "output_type": "stream",
          "name": "stderr",
          "text": [
            "MAE Ep 28/100: 100%|██████████| 440/440 [01:39<00:00,  4.41it/s, loss=0.204, lr=0.00129]\n"
          ]
        },
        {
          "output_type": "stream",
          "name": "stdout",
          "text": [
            "MAE Epoch 28/100 | Avg Loss: 0.2100 | Final LR: 1.29e-03\n"
          ]
        },
        {
          "output_type": "stream",
          "name": "stderr",
          "text": [
            "MAE Ep 29/100: 100%|██████████| 440/440 [01:40<00:00,  4.39it/s, loss=0.215, lr=0.00128]\n"
          ]
        },
        {
          "output_type": "stream",
          "name": "stdout",
          "text": [
            "MAE Epoch 29/100 | Avg Loss: 0.2091 | Final LR: 1.28e-03\n"
          ]
        },
        {
          "output_type": "stream",
          "name": "stderr",
          "text": [
            "MAE Ep 30/100: 100%|██████████| 440/440 [01:39<00:00,  4.40it/s, loss=0.204, lr=0.00126]\n"
          ]
        },
        {
          "output_type": "stream",
          "name": "stdout",
          "text": [
            "MAE Epoch 30/100 | Avg Loss: 0.2079 | Final LR: 1.26e-03\n"
          ]
        },
        {
          "output_type": "stream",
          "name": "stderr",
          "text": [
            "MAE Ep 31/100: 100%|██████████| 440/440 [01:39<00:00,  4.40it/s, loss=0.199, lr=0.00124]\n"
          ]
        },
        {
          "output_type": "stream",
          "name": "stdout",
          "text": [
            "MAE Epoch 31/100 | Avg Loss: 0.2072 | Final LR: 1.24e-03\n"
          ]
        },
        {
          "output_type": "stream",
          "name": "stderr",
          "text": [
            "MAE Ep 32/100: 100%|██████████| 440/440 [01:39<00:00,  4.41it/s, loss=0.203, lr=0.00122]\n"
          ]
        },
        {
          "output_type": "stream",
          "name": "stdout",
          "text": [
            "MAE Epoch 32/100 | Avg Loss: 0.2063 | Final LR: 1.22e-03\n"
          ]
        },
        {
          "output_type": "stream",
          "name": "stderr",
          "text": [
            "MAE Ep 33/100: 100%|██████████| 440/440 [01:39<00:00,  4.41it/s, loss=0.201, lr=0.0012]\n"
          ]
        },
        {
          "output_type": "stream",
          "name": "stdout",
          "text": [
            "MAE Epoch 33/100 | Avg Loss: 0.2058 | Final LR: 1.20e-03\n"
          ]
        },
        {
          "output_type": "stream",
          "name": "stderr",
          "text": [
            "MAE Ep 34/100: 100%|██████████| 440/440 [01:40<00:00,  4.39it/s, loss=0.216, lr=0.00118]\n"
          ]
        },
        {
          "output_type": "stream",
          "name": "stdout",
          "text": [
            "MAE Epoch 34/100 | Avg Loss: 0.2048 | Final LR: 1.18e-03\n"
          ]
        },
        {
          "output_type": "stream",
          "name": "stderr",
          "text": [
            "MAE Ep 35/100: 100%|██████████| 440/440 [01:39<00:00,  4.41it/s, loss=0.212, lr=0.00116]\n"
          ]
        },
        {
          "output_type": "stream",
          "name": "stdout",
          "text": [
            "MAE Epoch 35/100 | Avg Loss: 0.2042 | Final LR: 1.16e-03\n"
          ]
        },
        {
          "output_type": "stream",
          "name": "stderr",
          "text": [
            "MAE Ep 36/100: 100%|██████████| 440/440 [01:39<00:00,  4.41it/s, loss=0.2, lr=0.00114]\n"
          ]
        },
        {
          "output_type": "stream",
          "name": "stdout",
          "text": [
            "MAE Epoch 36/100 | Avg Loss: 0.2035 | Final LR: 1.14e-03\n"
          ]
        },
        {
          "output_type": "stream",
          "name": "stderr",
          "text": [
            "MAE Ep 37/100: 100%|██████████| 440/440 [01:39<00:00,  4.40it/s, loss=0.207, lr=0.00112]\n"
          ]
        },
        {
          "output_type": "stream",
          "name": "stdout",
          "text": [
            "MAE Epoch 37/100 | Avg Loss: 0.2029 | Final LR: 1.12e-03\n"
          ]
        },
        {
          "output_type": "stream",
          "name": "stderr",
          "text": [
            "MAE Ep 38/100: 100%|██████████| 440/440 [01:40<00:00,  4.40it/s, loss=0.203, lr=0.0011]\n"
          ]
        },
        {
          "output_type": "stream",
          "name": "stdout",
          "text": [
            "MAE Epoch 38/100 | Avg Loss: 0.2025 | Final LR: 1.10e-03\n"
          ]
        },
        {
          "output_type": "stream",
          "name": "stderr",
          "text": [
            "MAE Ep 39/100: 100%|██████████| 440/440 [01:39<00:00,  4.41it/s, loss=0.204, lr=0.00107]\n"
          ]
        },
        {
          "output_type": "stream",
          "name": "stdout",
          "text": [
            "MAE Epoch 39/100 | Avg Loss: 0.2018 | Final LR: 1.07e-03\n"
          ]
        },
        {
          "output_type": "stream",
          "name": "stderr",
          "text": [
            "MAE Ep 40/100: 100%|██████████| 440/440 [01:39<00:00,  4.41it/s, loss=0.194, lr=0.00105]\n"
          ]
        },
        {
          "output_type": "stream",
          "name": "stdout",
          "text": [
            "MAE Epoch 40/100 | Avg Loss: 0.2011 | Final LR: 1.05e-03\n"
          ]
        },
        {
          "output_type": "stream",
          "name": "stderr",
          "text": [
            "MAE Ep 41/100: 100%|██████████| 440/440 [01:39<00:00,  4.41it/s, loss=0.2, lr=0.00103]\n"
          ]
        },
        {
          "output_type": "stream",
          "name": "stdout",
          "text": [
            "MAE Epoch 41/100 | Avg Loss: 0.2007 | Final LR: 1.03e-03\n"
          ]
        },
        {
          "output_type": "stream",
          "name": "stderr",
          "text": [
            "MAE Ep 42/100: 100%|██████████| 440/440 [01:40<00:00,  4.39it/s, loss=0.203, lr=0.00101]\n"
          ]
        },
        {
          "output_type": "stream",
          "name": "stdout",
          "text": [
            "MAE Epoch 42/100 | Avg Loss: 0.2000 | Final LR: 1.01e-03\n"
          ]
        },
        {
          "output_type": "stream",
          "name": "stderr",
          "text": [
            "MAE Ep 43/100: 100%|██████████| 440/440 [01:40<00:00,  4.38it/s, loss=0.194, lr=0.000982]\n"
          ]
        },
        {
          "output_type": "stream",
          "name": "stdout",
          "text": [
            "MAE Epoch 43/100 | Avg Loss: 0.1994 | Final LR: 9.82e-04\n"
          ]
        },
        {
          "output_type": "stream",
          "name": "stderr",
          "text": [
            "MAE Ep 44/100: 100%|██████████| 440/440 [01:39<00:00,  4.41it/s, loss=0.197, lr=0.000958]\n"
          ]
        },
        {
          "output_type": "stream",
          "name": "stdout",
          "text": [
            "MAE Epoch 44/100 | Avg Loss: 0.1988 | Final LR: 9.58e-04\n"
          ]
        },
        {
          "output_type": "stream",
          "name": "stderr",
          "text": [
            "MAE Ep 45/100: 100%|██████████| 440/440 [01:39<00:00,  4.41it/s, loss=0.202, lr=0.000935]\n"
          ]
        },
        {
          "output_type": "stream",
          "name": "stdout",
          "text": [
            "MAE Epoch 45/100 | Avg Loss: 0.1986 | Final LR: 9.35e-04\n"
          ]
        },
        {
          "output_type": "stream",
          "name": "stderr",
          "text": [
            "MAE Ep 46/100: 100%|██████████| 440/440 [01:39<00:00,  4.40it/s, loss=0.191, lr=0.00091]\n"
          ]
        },
        {
          "output_type": "stream",
          "name": "stdout",
          "text": [
            "MAE Epoch 46/100 | Avg Loss: 0.1982 | Final LR: 9.10e-04\n"
          ]
        },
        {
          "output_type": "stream",
          "name": "stderr",
          "text": [
            "MAE Ep 47/100: 100%|██████████| 440/440 [01:40<00:00,  4.40it/s, loss=0.195, lr=0.000886]\n"
          ]
        },
        {
          "output_type": "stream",
          "name": "stdout",
          "text": [
            "MAE Epoch 47/100 | Avg Loss: 0.1976 | Final LR: 8.86e-04\n"
          ]
        },
        {
          "output_type": "stream",
          "name": "stderr",
          "text": [
            "MAE Ep 48/100: 100%|██████████| 440/440 [01:39<00:00,  4.40it/s, loss=0.197, lr=0.000862]\n"
          ]
        },
        {
          "output_type": "stream",
          "name": "stdout",
          "text": [
            "MAE Epoch 48/100 | Avg Loss: 0.1971 | Final LR: 8.62e-04\n"
          ]
        },
        {
          "output_type": "stream",
          "name": "stderr",
          "text": [
            "MAE Ep 49/100: 100%|██████████| 440/440 [01:40<00:00,  4.40it/s, loss=0.201, lr=0.000837]\n"
          ]
        },
        {
          "output_type": "stream",
          "name": "stdout",
          "text": [
            "MAE Epoch 49/100 | Avg Loss: 0.1967 | Final LR: 8.37e-04\n"
          ]
        },
        {
          "output_type": "stream",
          "name": "stderr",
          "text": [
            "MAE Ep 50/100: 100%|██████████| 440/440 [01:39<00:00,  4.41it/s, loss=0.202, lr=0.000812]\n"
          ]
        },
        {
          "output_type": "stream",
          "name": "stdout",
          "text": [
            "MAE Epoch 50/100 | Avg Loss: 0.1964 | Final LR: 8.12e-04\n"
          ]
        },
        {
          "output_type": "stream",
          "name": "stderr",
          "text": [
            "MAE Ep 51/100: 100%|██████████| 440/440 [01:40<00:00,  4.40it/s, loss=0.207, lr=0.000788]\n"
          ]
        },
        {
          "output_type": "stream",
          "name": "stdout",
          "text": [
            "MAE Epoch 51/100 | Avg Loss: 0.1959 | Final LR: 7.88e-04\n"
          ]
        },
        {
          "output_type": "stream",
          "name": "stderr",
          "text": [
            "MAE Ep 52/100: 100%|██████████| 440/440 [01:39<00:00,  4.40it/s, loss=0.201, lr=0.000763]\n"
          ]
        },
        {
          "output_type": "stream",
          "name": "stdout",
          "text": [
            "MAE Epoch 52/100 | Avg Loss: 0.1955 | Final LR: 7.63e-04\n"
          ]
        },
        {
          "output_type": "stream",
          "name": "stderr",
          "text": [
            "MAE Ep 53/100: 100%|██████████| 440/440 [01:40<00:00,  4.37it/s, loss=0.191, lr=0.000738]\n"
          ]
        },
        {
          "output_type": "stream",
          "name": "stdout",
          "text": [
            "MAE Epoch 53/100 | Avg Loss: 0.1952 | Final LR: 7.38e-04\n"
          ]
        },
        {
          "output_type": "stream",
          "name": "stderr",
          "text": [
            "MAE Ep 54/100: 100%|██████████| 440/440 [01:39<00:00,  4.40it/s, loss=0.191, lr=0.000713]\n"
          ]
        },
        {
          "output_type": "stream",
          "name": "stdout",
          "text": [
            "MAE Epoch 54/100 | Avg Loss: 0.1945 | Final LR: 7.13e-04\n"
          ]
        },
        {
          "output_type": "stream",
          "name": "stderr",
          "text": [
            "MAE Ep 55/100: 100%|██████████| 440/440 [01:39<00:00,  4.41it/s, loss=0.193, lr=0.000689]\n"
          ]
        },
        {
          "output_type": "stream",
          "name": "stdout",
          "text": [
            "MAE Epoch 55/100 | Avg Loss: 0.1944 | Final LR: 6.89e-04\n"
          ]
        },
        {
          "output_type": "stream",
          "name": "stderr",
          "text": [
            "MAE Ep 56/100: 100%|██████████| 440/440 [01:40<00:00,  4.39it/s, loss=0.202, lr=0.000664]\n"
          ]
        },
        {
          "output_type": "stream",
          "name": "stdout",
          "text": [
            "MAE Epoch 56/100 | Avg Loss: 0.1939 | Final LR: 6.64e-04\n"
          ]
        },
        {
          "output_type": "stream",
          "name": "stderr",
          "text": [
            "MAE Ep 57/100: 100%|██████████| 440/440 [01:39<00:00,  4.40it/s, loss=0.194, lr=0.000639]\n"
          ]
        },
        {
          "output_type": "stream",
          "name": "stdout",
          "text": [
            "MAE Epoch 57/100 | Avg Loss: 0.1936 | Final LR: 6.39e-04\n"
          ]
        },
        {
          "output_type": "stream",
          "name": "stderr",
          "text": [
            "MAE Ep 58/100: 100%|██████████| 440/440 [01:39<00:00,  4.40it/s, loss=0.193, lr=0.000615]\n"
          ]
        },
        {
          "output_type": "stream",
          "name": "stdout",
          "text": [
            "MAE Epoch 58/100 | Avg Loss: 0.1931 | Final LR: 6.15e-04\n"
          ]
        },
        {
          "output_type": "stream",
          "name": "stderr",
          "text": [
            "MAE Ep 59/100: 100%|██████████| 440/440 [01:39<00:00,  4.41it/s, loss=0.193, lr=0.000591]\n"
          ]
        },
        {
          "output_type": "stream",
          "name": "stdout",
          "text": [
            "MAE Epoch 59/100 | Avg Loss: 0.1928 | Final LR: 5.91e-04\n"
          ]
        },
        {
          "output_type": "stream",
          "name": "stderr",
          "text": [
            "MAE Ep 60/100: 100%|██████████| 440/440 [01:40<00:00,  4.39it/s, loss=0.187, lr=0.000567]\n"
          ]
        },
        {
          "output_type": "stream",
          "name": "stdout",
          "text": [
            "MAE Epoch 60/100 | Avg Loss: 0.1923 | Final LR: 5.67e-04\n"
          ]
        },
        {
          "output_type": "stream",
          "name": "stderr",
          "text": [
            "MAE Ep 61/100: 100%|██████████| 440/440 [01:40<00:00,  4.40it/s, loss=0.186, lr=0.000543]\n"
          ]
        },
        {
          "output_type": "stream",
          "name": "stdout",
          "text": [
            "MAE Epoch 61/100 | Avg Loss: 0.1920 | Final LR: 5.43e-04\n"
          ]
        },
        {
          "output_type": "stream",
          "name": "stderr",
          "text": [
            "MAE Ep 62/100: 100%|██████████| 440/440 [01:40<00:00,  4.40it/s, loss=0.192, lr=0.000519]\n"
          ]
        },
        {
          "output_type": "stream",
          "name": "stdout",
          "text": [
            "MAE Epoch 62/100 | Avg Loss: 0.1917 | Final LR: 5.19e-04\n"
          ]
        },
        {
          "output_type": "stream",
          "name": "stderr",
          "text": [
            "MAE Ep 63/100: 100%|██████████| 440/440 [01:40<00:00,  4.40it/s, loss=0.191, lr=0.000496]\n"
          ]
        },
        {
          "output_type": "stream",
          "name": "stdout",
          "text": [
            "MAE Epoch 63/100 | Avg Loss: 0.1914 | Final LR: 4.96e-04\n"
          ]
        },
        {
          "output_type": "stream",
          "name": "stderr",
          "text": [
            "MAE Ep 64/100: 100%|██████████| 440/440 [01:40<00:00,  4.37it/s, loss=0.187, lr=0.000472]\n"
          ]
        },
        {
          "output_type": "stream",
          "name": "stdout",
          "text": [
            "MAE Epoch 64/100 | Avg Loss: 0.1910 | Final LR: 4.72e-04\n"
          ]
        },
        {
          "output_type": "stream",
          "name": "stderr",
          "text": [
            "MAE Ep 65/100: 100%|██████████| 440/440 [01:42<00:00,  4.30it/s, loss=0.195, lr=0.000449]\n"
          ]
        },
        {
          "output_type": "stream",
          "name": "stdout",
          "text": [
            "MAE Epoch 65/100 | Avg Loss: 0.1906 | Final LR: 4.49e-04\n"
          ]
        },
        {
          "output_type": "stream",
          "name": "stderr",
          "text": [
            "MAE Ep 66/100: 100%|██████████| 440/440 [01:40<00:00,  4.38it/s, loss=0.192, lr=0.000427]\n"
          ]
        },
        {
          "output_type": "stream",
          "name": "stdout",
          "text": [
            "MAE Epoch 66/100 | Avg Loss: 0.1906 | Final LR: 4.27e-04\n"
          ]
        },
        {
          "output_type": "stream",
          "name": "stderr",
          "text": [
            "MAE Ep 67/100: 100%|██████████| 440/440 [01:40<00:00,  4.39it/s, loss=0.186, lr=0.000405]\n"
          ]
        },
        {
          "output_type": "stream",
          "name": "stdout",
          "text": [
            "MAE Epoch 67/100 | Avg Loss: 0.1902 | Final LR: 4.05e-04\n"
          ]
        },
        {
          "output_type": "stream",
          "name": "stderr",
          "text": [
            "MAE Ep 68/100: 100%|██████████| 440/440 [01:40<00:00,  4.40it/s, loss=0.192, lr=0.000383]\n"
          ]
        },
        {
          "output_type": "stream",
          "name": "stdout",
          "text": [
            "MAE Epoch 68/100 | Avg Loss: 0.1899 | Final LR: 3.83e-04\n"
          ]
        },
        {
          "output_type": "stream",
          "name": "stderr",
          "text": [
            "MAE Ep 69/100: 100%|██████████| 440/440 [01:40<00:00,  4.38it/s, loss=0.189, lr=0.000362]\n"
          ]
        },
        {
          "output_type": "stream",
          "name": "stdout",
          "text": [
            "MAE Epoch 69/100 | Avg Loss: 0.1897 | Final LR: 3.62e-04\n"
          ]
        },
        {
          "output_type": "stream",
          "name": "stderr",
          "text": [
            "MAE Ep 70/100: 100%|██████████| 440/440 [01:40<00:00,  4.40it/s, loss=0.195, lr=0.000341]\n"
          ]
        },
        {
          "output_type": "stream",
          "name": "stdout",
          "text": [
            "MAE Epoch 70/100 | Avg Loss: 0.1893 | Final LR: 3.41e-04\n"
          ]
        },
        {
          "output_type": "stream",
          "name": "stderr",
          "text": [
            "MAE Ep 71/100: 100%|██████████| 440/440 [01:40<00:00,  4.40it/s, loss=0.187, lr=0.00032]\n"
          ]
        },
        {
          "output_type": "stream",
          "name": "stdout",
          "text": [
            "MAE Epoch 71/100 | Avg Loss: 0.1891 | Final LR: 3.20e-04\n"
          ]
        },
        {
          "output_type": "stream",
          "name": "stderr",
          "text": [
            "MAE Ep 72/100: 100%|██████████| 440/440 [01:39<00:00,  4.40it/s, loss=0.193, lr=0.0003]\n"
          ]
        },
        {
          "output_type": "stream",
          "name": "stdout",
          "text": [
            "MAE Epoch 72/100 | Avg Loss: 0.1889 | Final LR: 3.00e-04\n"
          ]
        },
        {
          "output_type": "stream",
          "name": "stderr",
          "text": [
            "MAE Ep 73/100: 100%|██████████| 440/440 [01:42<00:00,  4.30it/s, loss=0.188, lr=0.00028]\n"
          ]
        },
        {
          "output_type": "stream",
          "name": "stdout",
          "text": [
            "MAE Epoch 73/100 | Avg Loss: 0.1886 | Final LR: 2.80e-04\n"
          ]
        },
        {
          "output_type": "stream",
          "name": "stderr",
          "text": [
            "MAE Ep 74/100: 100%|██████████| 440/440 [01:40<00:00,  4.39it/s, loss=0.187, lr=0.000261]\n"
          ]
        },
        {
          "output_type": "stream",
          "name": "stdout",
          "text": [
            "MAE Epoch 74/100 | Avg Loss: 0.1883 | Final LR: 2.61e-04\n"
          ]
        },
        {
          "output_type": "stream",
          "name": "stderr",
          "text": [
            "MAE Ep 75/100: 100%|██████████| 440/440 [01:40<00:00,  4.39it/s, loss=0.181, lr=0.000243]\n"
          ]
        },
        {
          "output_type": "stream",
          "name": "stdout",
          "text": [
            "MAE Epoch 75/100 | Avg Loss: 0.1880 | Final LR: 2.43e-04\n"
          ]
        },
        {
          "output_type": "stream",
          "name": "stderr",
          "text": [
            "MAE Ep 76/100: 100%|██████████| 440/440 [01:39<00:00,  4.40it/s, loss=0.191, lr=0.000225]\n"
          ]
        },
        {
          "output_type": "stream",
          "name": "stdout",
          "text": [
            "MAE Epoch 76/100 | Avg Loss: 0.1880 | Final LR: 2.25e-04\n"
          ]
        },
        {
          "output_type": "stream",
          "name": "stderr",
          "text": [
            "MAE Ep 77/100: 100%|██████████| 440/440 [01:40<00:00,  4.39it/s, loss=0.19, lr=0.000208]\n"
          ]
        },
        {
          "output_type": "stream",
          "name": "stdout",
          "text": [
            "MAE Epoch 77/100 | Avg Loss: 0.1875 | Final LR: 2.08e-04\n"
          ]
        },
        {
          "output_type": "stream",
          "name": "stderr",
          "text": [
            "MAE Ep 78/100: 100%|██████████| 440/440 [01:40<00:00,  4.39it/s, loss=0.188, lr=0.000191]\n"
          ]
        },
        {
          "output_type": "stream",
          "name": "stdout",
          "text": [
            "MAE Epoch 78/100 | Avg Loss: 0.1874 | Final LR: 1.91e-04\n"
          ]
        },
        {
          "output_type": "stream",
          "name": "stderr",
          "text": [
            "MAE Ep 79/100: 100%|██████████| 440/440 [01:39<00:00,  4.40it/s, loss=0.193, lr=0.000175]\n"
          ]
        },
        {
          "output_type": "stream",
          "name": "stdout",
          "text": [
            "MAE Epoch 79/100 | Avg Loss: 0.1872 | Final LR: 1.75e-04\n"
          ]
        },
        {
          "output_type": "stream",
          "name": "stderr",
          "text": [
            "MAE Ep 80/100: 100%|██████████| 440/440 [01:40<00:00,  4.39it/s, loss=0.187, lr=0.000159]\n"
          ]
        },
        {
          "output_type": "stream",
          "name": "stdout",
          "text": [
            "MAE Epoch 80/100 | Avg Loss: 0.1870 | Final LR: 1.59e-04\n"
          ]
        },
        {
          "output_type": "stream",
          "name": "stderr",
          "text": [
            "MAE Ep 81/100: 100%|██████████| 440/440 [01:40<00:00,  4.40it/s, loss=0.184, lr=0.000144]\n"
          ]
        },
        {
          "output_type": "stream",
          "name": "stdout",
          "text": [
            "MAE Epoch 81/100 | Avg Loss: 0.1868 | Final LR: 1.44e-04\n"
          ]
        },
        {
          "output_type": "stream",
          "name": "stderr",
          "text": [
            "MAE Ep 82/100: 100%|██████████| 440/440 [01:40<00:00,  4.39it/s, loss=0.192, lr=0.00013]\n"
          ]
        },
        {
          "output_type": "stream",
          "name": "stdout",
          "text": [
            "MAE Epoch 82/100 | Avg Loss: 0.1867 | Final LR: 1.30e-04\n"
          ]
        },
        {
          "output_type": "stream",
          "name": "stderr",
          "text": [
            "MAE Ep 83/100: 100%|██████████| 440/440 [01:40<00:00,  4.38it/s, loss=0.19, lr=0.000116]\n"
          ]
        },
        {
          "output_type": "stream",
          "name": "stdout",
          "text": [
            "MAE Epoch 83/100 | Avg Loss: 0.1864 | Final LR: 1.16e-04\n"
          ]
        },
        {
          "output_type": "stream",
          "name": "stderr",
          "text": [
            "MAE Ep 84/100: 100%|██████████| 440/440 [01:40<00:00,  4.39it/s, loss=0.189, lr=0.000104]\n"
          ]
        },
        {
          "output_type": "stream",
          "name": "stdout",
          "text": [
            "MAE Epoch 84/100 | Avg Loss: 0.1863 | Final LR: 1.04e-04\n"
          ]
        },
        {
          "output_type": "stream",
          "name": "stderr",
          "text": [
            "MAE Ep 85/100: 100%|██████████| 440/440 [01:39<00:00,  4.40it/s, loss=0.18, lr=9.14e-5]\n"
          ]
        },
        {
          "output_type": "stream",
          "name": "stdout",
          "text": [
            "MAE Epoch 85/100 | Avg Loss: 0.1861 | Final LR: 9.14e-05\n"
          ]
        },
        {
          "output_type": "stream",
          "name": "stderr",
          "text": [
            "MAE Ep 86/100: 100%|██████████| 440/440 [01:39<00:00,  4.40it/s, loss=0.198, lr=7.99e-5]\n"
          ]
        },
        {
          "output_type": "stream",
          "name": "stdout",
          "text": [
            "MAE Epoch 86/100 | Avg Loss: 0.1860 | Final LR: 7.99e-05\n"
          ]
        },
        {
          "output_type": "stream",
          "name": "stderr",
          "text": [
            "MAE Ep 87/100: 100%|██████████| 440/440 [01:40<00:00,  4.39it/s, loss=0.189, lr=6.92e-5]\n"
          ]
        },
        {
          "output_type": "stream",
          "name": "stdout",
          "text": [
            "MAE Epoch 87/100 | Avg Loss: 0.1860 | Final LR: 6.92e-05\n"
          ]
        },
        {
          "output_type": "stream",
          "name": "stderr",
          "text": [
            "MAE Ep 88/100: 100%|██████████| 440/440 [01:40<00:00,  4.39it/s, loss=0.193, lr=5.93e-5]\n"
          ]
        },
        {
          "output_type": "stream",
          "name": "stdout",
          "text": [
            "MAE Epoch 88/100 | Avg Loss: 0.1857 | Final LR: 5.93e-05\n"
          ]
        },
        {
          "output_type": "stream",
          "name": "stderr",
          "text": [
            "MAE Ep 89/100: 100%|██████████| 440/440 [01:39<00:00,  4.40it/s, loss=0.188, lr=5.01e-5]\n"
          ]
        },
        {
          "output_type": "stream",
          "name": "stdout",
          "text": [
            "MAE Epoch 89/100 | Avg Loss: 0.1855 | Final LR: 5.01e-05\n"
          ]
        },
        {
          "output_type": "stream",
          "name": "stderr",
          "text": [
            "MAE Ep 90/100: 100%|██████████| 440/440 [01:39<00:00,  4.42it/s, loss=0.179, lr=4.16e-5]\n"
          ]
        },
        {
          "output_type": "stream",
          "name": "stdout",
          "text": [
            "MAE Epoch 90/100 | Avg Loss: 0.1856 | Final LR: 4.16e-05\n"
          ]
        },
        {
          "output_type": "stream",
          "name": "stderr",
          "text": [
            "MAE Ep 91/100: 100%|██████████| 440/440 [01:39<00:00,  4.41it/s, loss=0.185, lr=3.4e-5]\n"
          ]
        },
        {
          "output_type": "stream",
          "name": "stdout",
          "text": [
            "MAE Epoch 91/100 | Avg Loss: 0.1854 | Final LR: 3.40e-05\n"
          ]
        },
        {
          "output_type": "stream",
          "name": "stderr",
          "text": [
            "MAE Ep 92/100: 100%|██████████| 440/440 [01:39<00:00,  4.42it/s, loss=0.184, lr=2.71e-5]\n"
          ]
        },
        {
          "output_type": "stream",
          "name": "stdout",
          "text": [
            "MAE Epoch 92/100 | Avg Loss: 0.1854 | Final LR: 2.71e-05\n"
          ]
        },
        {
          "output_type": "stream",
          "name": "stderr",
          "text": [
            "MAE Ep 93/100: 100%|██████████| 440/440 [01:40<00:00,  4.40it/s, loss=0.177, lr=2.1e-5]\n"
          ]
        },
        {
          "output_type": "stream",
          "name": "stdout",
          "text": [
            "MAE Epoch 93/100 | Avg Loss: 0.1853 | Final LR: 2.10e-05\n"
          ]
        },
        {
          "output_type": "stream",
          "name": "stderr",
          "text": [
            "MAE Ep 94/100: 100%|██████████| 440/440 [01:40<00:00,  4.40it/s, loss=0.173, lr=1.57e-5]\n"
          ]
        },
        {
          "output_type": "stream",
          "name": "stdout",
          "text": [
            "MAE Epoch 94/100 | Avg Loss: 0.1852 | Final LR: 1.57e-05\n"
          ]
        },
        {
          "output_type": "stream",
          "name": "stderr",
          "text": [
            "MAE Ep 95/100: 100%|██████████| 440/440 [01:39<00:00,  4.40it/s, loss=0.184, lr=1.12e-5]\n"
          ]
        },
        {
          "output_type": "stream",
          "name": "stdout",
          "text": [
            "MAE Epoch 95/100 | Avg Loss: 0.1852 | Final LR: 1.12e-05\n"
          ]
        },
        {
          "output_type": "stream",
          "name": "stderr",
          "text": [
            "MAE Ep 96/100: 100%|██████████| 440/440 [01:39<00:00,  4.41it/s, loss=0.181, lr=7.56e-6]\n"
          ]
        },
        {
          "output_type": "stream",
          "name": "stdout",
          "text": [
            "MAE Epoch 96/100 | Avg Loss: 0.1850 | Final LR: 7.56e-06\n"
          ]
        },
        {
          "output_type": "stream",
          "name": "stderr",
          "text": [
            "MAE Ep 97/100: 100%|██████████| 440/440 [01:40<00:00,  4.39it/s, loss=0.183, lr=4.69e-6]\n"
          ]
        },
        {
          "output_type": "stream",
          "name": "stdout",
          "text": [
            "MAE Epoch 97/100 | Avg Loss: 0.1850 | Final LR: 4.69e-06\n"
          ]
        },
        {
          "output_type": "stream",
          "name": "stderr",
          "text": [
            "MAE Ep 98/100: 100%|██████████| 440/440 [01:40<00:00,  4.37it/s, loss=0.182, lr=2.64e-6]\n"
          ]
        },
        {
          "output_type": "stream",
          "name": "stdout",
          "text": [
            "MAE Epoch 98/100 | Avg Loss: 0.1852 | Final LR: 2.64e-06\n"
          ]
        },
        {
          "output_type": "stream",
          "name": "stderr",
          "text": [
            "MAE Ep 99/100: 100%|██████████| 440/440 [01:40<00:00,  4.39it/s, loss=0.188, lr=1.41e-6]\n"
          ]
        },
        {
          "output_type": "stream",
          "name": "stdout",
          "text": [
            "MAE Epoch 99/100 | Avg Loss: 0.1851 | Final LR: 1.41e-06\n"
          ]
        },
        {
          "output_type": "stream",
          "name": "stderr",
          "text": [
            "MAE Ep 100/100: 100%|██████████| 440/440 [01:39<00:00,  4.40it/s, loss=0.193, lr=1e-6]"
          ]
        },
        {
          "output_type": "stream",
          "name": "stdout",
          "text": [
            "MAE Epoch 100/100 | Avg Loss: 0.1850 | Final LR: 1.00e-06\n",
            "MAE pre-training done.\n",
            "\n"
          ]
        },
        {
          "output_type": "stream",
          "name": "stderr",
          "text": [
            "\n"
          ]
        }
      ]
    },
    {
      "cell_type": "code",
      "source": [
        "# Plot pretraining loss\n",
        "\n",
        "plt.figure(figsize=(10, 5))\n",
        "plt.plot(mae_losses, label='MAE Pre-training Loss')\n",
        "plt.title('MAE Pre-training Loss Over Epochs')\n",
        "plt.xlabel('Epoch')\n",
        "plt.ylabel('Average MSE Loss')\n",
        "plt.legend()\n",
        "plt.grid(True)\n",
        "plt.show()"
      ],
      "metadata": {
        "colab": {
          "base_uri": "https://localhost:8080/",
          "height": 418
        },
        "id": "VH9N5qS8YpBY",
        "outputId": "d48bfa7d-94b1-42d2-d2f7-a19a27091015"
      },
      "execution_count": 15,
      "outputs": [
        {
          "output_type": "display_data",
          "data": {
            "text/plain": [
              "<Figure size 1000x500 with 1 Axes>"
            ],
            "image/png": "[encoded data removed]"
          },
          "metadata": {}
        }
      ]
    },
    {
      "cell_type": "code",
      "source": [
        "# ----------------------------------------------------\n",
        "# Fine-tune Spatio-Temporal Classifier\n",
        "# ----------------------------------------------------\n",
        "\n",
        "print(\"--- Starting Spatio-Temporal Fine-tuning ---\")\n",
        "clf = SpatioTemporalClassifier(\n",
        "    img_size=(img_height, img_width), time_steps=img_depth,\n",
        "    patch_size=patch_size_2d, in_channels=1, d_model=d_model,\n",
        "    n_spatial_enc=n_spatial_enc, n_temporal_enc=n_temporal_enc,\n",
        "    nhead_spatial=nhead_spatial, nhead_temporal=nhead_temporal,\n",
        "    dropout=dropout, n_classes=num_classes\n",
        ").to(device)\n",
        "\n",
        "clf.patch_embed.load_state_dict(mae.patch_embed.state_dict())\n",
        "clf.spatial_encoder.load_state_dict(mae.encoder.state_dict())\n",
        "print(\"Weights from MAE's PatchEmbed and Spatial Encoder transferred to Classifier.\")\n",
        "\n",
        "opt_clf = optim.AdamW(clf.parameters(), lr=clf_lr, weight_decay=0.05)\n",
        "sched_clf = optim.lr_scheduler.StepLR(opt_clf, step_size=int(clf_epochs * 0.7), gamma=0.1)\n",
        "criterion = nn.CrossEntropyLoss()\n",
        "# Instantiate a GradScaler for the fine-tuning loop\n",
        "scaler_clf = GradScaler(enabled=(device.type == 'cuda'))\n",
        "\n",
        "train_losses, test_losses = [], []\n",
        "train_accs,  test_accs  = [], []\n",
        "best_acc = 0.0\n",
        "\n",
        "for ep in range(clf_epochs):\n",
        "    # --- Train ---\n",
        "    clf.train()\n",
        "    running_loss = train_correct = train_total = 0\n",
        "    pbar_train = tqdm(train_loader, desc=f\"CLF Train Ep {ep+1}/{clf_epochs}\")\n",
        "    for imgs, labels in pbar_train:\n",
        "        imgs, labels = imgs.to(device), labels.squeeze(1).to(device)\n",
        "        opt_clf.zero_grad(set_to_none=True)\n",
        "        # Use autocast for the forward pass\n",
        "        with autocast(enabled=(device.type == \"cuda\")):\n",
        "            logits = clf(imgs)\n",
        "            loss = criterion(logits, labels)\n",
        "        # Use scaler for backward pass and optimizer step\n",
        "        scaler_clf.scale(loss).backward()\n",
        "        scaler_clf.step(opt_clf)\n",
        "        scaler_clf.update()\n",
        "\n",
        "        running_loss += loss.item()\n",
        "        train_correct += (logits.argmax(1) == labels).sum().item()\n",
        "        train_total += labels.size(0)\n",
        "        pbar_train.set_postfix(acc=100*train_correct/train_total)\n",
        "\n",
        "    train_losses.append(running_loss / len(train_loader))\n",
        "    train_accs.append(100 * train_correct / train_total)\n",
        "    sched_clf.step()\n",
        "\n",
        "    # --- Validation ---\n",
        "    clf.eval()\n",
        "    val_loss = val_correct = val_total = 0\n",
        "    with torch.no_grad():\n",
        "        pbar_val = tqdm(test_loader, desc=f\"CLF Val Ep {ep+1}/{clf_epochs}\")\n",
        "        for imgs, labels in pbar_val:\n",
        "            imgs, labels = imgs.to(device), labels.squeeze(1).to(device)\n",
        "            # Use autocast here as well for consistency, though it's not strictly necessary without a backward pass\n",
        "            with autocast(enabled=(device.type == \"cuda\")):\n",
        "                logits = clf(imgs)\n",
        "                loss   = criterion(logits, labels)\n",
        "            val_loss += loss.item()\n",
        "            val_correct += (logits.argmax(1) == labels).sum().item()\n",
        "            val_total += labels.size(0)\n",
        "            pbar_val.set_postfix(acc=100*val_correct/val_total)\n",
        "\n",
        "    test_losses.append(val_loss / len(test_loader))\n",
        "    val_acc = 100 * val_correct / val_total\n",
        "    test_accs.append(val_acc)\n",
        "\n",
        "\n",
        "    if val_acc > best_acc:\n",
        "        best_acc = val_acc\n",
        "        torch.save(clf.state_dict(), os.path.join(SAVE_DIR, \"best_spatiotemporal_classifier.pt\"))\n",
        "        print(f\"Epoch {ep+1} | New best accuracy: {best_acc:.2f}% | Model saved.\")\n",
        "\n",
        "    print(f\"Epoch {ep+1}/{clf_epochs}: Train Acc {train_accs[-1]:.2f}% | Val Acc {val_acc:.2f}% (Best: {best_acc:.2f}%)\")\n",
        "\n",
        "print(\"\\nFine-tuning complete.\")"
      ],
      "metadata": {
        "colab": {
          "base_uri": "https://localhost:8080/"
        },
        "id": "qhnM7nrfY2WP",
        "outputId": "7fe23c70-2051-4380-c907-1bc4b7903d52"
      },
      "execution_count": 16,
      "outputs": [
        {
          "output_type": "stream",
          "name": "stderr",
          "text": [
            "/tmp/ipython-input-16-575643134.py:22: FutureWarning: `torch.cuda.amp.GradScaler(args...)` is deprecated. Please use `torch.amp.GradScaler('cuda', args...)` instead.\n",
            "  scaler_clf = GradScaler(enabled=(device.type == 'cuda'))\n"
          ]
        },
        {
          "output_type": "stream",
          "name": "stdout",
          "text": [
            "--- Starting Spatio-Temporal Fine-tuning ---\n",
            "Weights from MAE's PatchEmbed and Spatial Encoder transferred to Classifier.\n"
          ]
        },
        {
          "output_type": "stream",
          "name": "stderr",
          "text": [
            "\rCLF Train Ep 1/20:   0%|          | 0/440 [00:00<?, ?it/s]/tmp/ipython-input-16-575643134.py:37: FutureWarning: `torch.cuda.amp.autocast(args...)` is deprecated. Please use `torch.amp.autocast('cuda', args...)` instead.\n",
            "  with autocast(enabled=(device.type == \"cuda\")):\n",
            "CLF Train Ep 1/20: 100%|██████████| 440/440 [02:02<00:00,  3.60it/s, acc=71]\n",
            "CLF Val Ep 1/20:   0%|          | 0/100 [00:00<?, ?it/s]/tmp/ipython-input-16-575643134.py:62: FutureWarning: `torch.cuda.amp.autocast(args...)` is deprecated. Please use `torch.amp.autocast('cuda', args...)` instead.\n",
            "  with autocast(enabled=(device.type == \"cuda\")):\n",
            "CLF Val Ep 1/20: 100%|██████████| 100/100 [00:08<00:00, 11.81it/s, acc=83.8]\n"
          ]
        },
        {
          "output_type": "stream",
          "name": "stdout",
          "text": [
            "Epoch 1 | New best accuracy: 83.75% | Model saved.\n",
            "Epoch 1/20: Train Acc 71.02% | Val Acc 83.75% (Best: 83.75%)\n"
          ]
        },
        {
          "output_type": "stream",
          "name": "stderr",
          "text": [
            "CLF Train Ep 2/20: 100%|██████████| 440/440 [02:02<00:00,  3.61it/s, acc=88.2]\n",
            "CLF Val Ep 2/20: 100%|██████████| 100/100 [00:08<00:00, 11.91it/s, acc=85.9]\n"
          ]
        },
        {
          "output_type": "stream",
          "name": "stdout",
          "text": [
            "Epoch 2 | New best accuracy: 85.88% | Model saved.\n",
            "Epoch 2/20: Train Acc 88.21% | Val Acc 85.88% (Best: 85.88%)\n"
          ]
        },
        {
          "output_type": "stream",
          "name": "stderr",
          "text": [
            "CLF Train Ep 3/20: 100%|██████████| 440/440 [02:01<00:00,  3.62it/s, acc=90.5]\n",
            "CLF Val Ep 3/20: 100%|██████████| 100/100 [00:08<00:00, 11.79it/s, acc=85.1]\n"
          ]
        },
        {
          "output_type": "stream",
          "name": "stdout",
          "text": [
            "Epoch 3/20: Train Acc 90.48% | Val Acc 85.12% (Best: 85.88%)\n"
          ]
        },
        {
          "output_type": "stream",
          "name": "stderr",
          "text": [
            "CLF Train Ep 4/20: 100%|██████████| 440/440 [02:01<00:00,  3.62it/s, acc=91.7]\n",
            "CLF Val Ep 4/20: 100%|██████████| 100/100 [00:08<00:00, 12.24it/s, acc=88]\n"
          ]
        },
        {
          "output_type": "stream",
          "name": "stdout",
          "text": [
            "Epoch 4 | New best accuracy: 88.00% | Model saved.\n",
            "Epoch 4/20: Train Acc 91.73% | Val Acc 88.00% (Best: 88.00%)\n"
          ]
        },
        {
          "output_type": "stream",
          "name": "stderr",
          "text": [
            "CLF Train Ep 5/20: 100%|██████████| 440/440 [02:01<00:00,  3.62it/s, acc=91.9]\n",
            "CLF Val Ep 5/20: 100%|██████████| 100/100 [00:08<00:00, 11.77it/s, acc=87.9]\n"
          ]
        },
        {
          "output_type": "stream",
          "name": "stdout",
          "text": [
            "Epoch 5/20: Train Acc 91.88% | Val Acc 87.88% (Best: 88.00%)\n"
          ]
        },
        {
          "output_type": "stream",
          "name": "stderr",
          "text": [
            "CLF Train Ep 6/20: 100%|██████████| 440/440 [02:01<00:00,  3.62it/s, acc=92.4]\n",
            "CLF Val Ep 6/20: 100%|██████████| 100/100 [00:08<00:00, 12.16it/s, acc=89.4]\n"
          ]
        },
        {
          "output_type": "stream",
          "name": "stdout",
          "text": [
            "Epoch 6 | New best accuracy: 89.38% | Model saved.\n",
            "Epoch 6/20: Train Acc 92.41% | Val Acc 89.38% (Best: 89.38%)\n"
          ]
        },
        {
          "output_type": "stream",
          "name": "stderr",
          "text": [
            "CLF Train Ep 7/20: 100%|██████████| 440/440 [02:01<00:00,  3.63it/s, acc=93.9]\n",
            "CLF Val Ep 7/20: 100%|██████████| 100/100 [00:08<00:00, 11.69it/s, acc=87.2]\n"
          ]
        },
        {
          "output_type": "stream",
          "name": "stdout",
          "text": [
            "Epoch 7/20: Train Acc 93.95% | Val Acc 87.25% (Best: 89.38%)\n"
          ]
        },
        {
          "output_type": "stream",
          "name": "stderr",
          "text": [
            "CLF Train Ep 8/20: 100%|██████████| 440/440 [02:01<00:00,  3.63it/s, acc=93.6]\n",
            "CLF Val Ep 8/20: 100%|██████████| 100/100 [00:08<00:00, 12.04it/s, acc=89.6]\n"
          ]
        },
        {
          "output_type": "stream",
          "name": "stdout",
          "text": [
            "Epoch 8 | New best accuracy: 89.62% | Model saved.\n",
            "Epoch 8/20: Train Acc 93.55% | Val Acc 89.62% (Best: 89.62%)\n"
          ]
        },
        {
          "output_type": "stream",
          "name": "stderr",
          "text": [
            "CLF Train Ep 9/20: 100%|██████████| 440/440 [02:01<00:00,  3.63it/s, acc=94.1]\n",
            "CLF Val Ep 9/20: 100%|██████████| 100/100 [00:08<00:00, 12.07it/s, acc=90.1]\n"
          ]
        },
        {
          "output_type": "stream",
          "name": "stdout",
          "text": [
            "Epoch 9 | New best accuracy: 90.12% | Model saved.\n",
            "Epoch 9/20: Train Acc 94.12% | Val Acc 90.12% (Best: 90.12%)\n"
          ]
        },
        {
          "output_type": "stream",
          "name": "stderr",
          "text": [
            "CLF Train Ep 10/20: 100%|██████████| 440/440 [02:01<00:00,  3.61it/s, acc=94.1]\n",
            "CLF Val Ep 10/20: 100%|██████████| 100/100 [00:08<00:00, 11.41it/s, acc=90.6]\n"
          ]
        },
        {
          "output_type": "stream",
          "name": "stdout",
          "text": [
            "Epoch 10 | New best accuracy: 90.62% | Model saved.\n",
            "Epoch 10/20: Train Acc 94.12% | Val Acc 90.62% (Best: 90.62%)\n"
          ]
        },
        {
          "output_type": "stream",
          "name": "stderr",
          "text": [
            "CLF Train Ep 11/20: 100%|██████████| 440/440 [02:01<00:00,  3.63it/s, acc=94.7]\n",
            "CLF Val Ep 11/20: 100%|██████████| 100/100 [00:07<00:00, 12.54it/s, acc=90.9]\n"
          ]
        },
        {
          "output_type": "stream",
          "name": "stdout",
          "text": [
            "Epoch 11 | New best accuracy: 90.88% | Model saved.\n",
            "Epoch 11/20: Train Acc 94.69% | Val Acc 90.88% (Best: 90.88%)\n"
          ]
        },
        {
          "output_type": "stream",
          "name": "stderr",
          "text": [
            "CLF Train Ep 12/20: 100%|██████████| 440/440 [02:01<00:00,  3.63it/s, acc=94.7]\n",
            "CLF Val Ep 12/20: 100%|██████████| 100/100 [00:08<00:00, 11.31it/s, acc=88.5]\n"
          ]
        },
        {
          "output_type": "stream",
          "name": "stdout",
          "text": [
            "Epoch 12/20: Train Acc 94.74% | Val Acc 88.50% (Best: 90.88%)\n"
          ]
        },
        {
          "output_type": "stream",
          "name": "stderr",
          "text": [
            "CLF Train Ep 13/20: 100%|██████████| 440/440 [02:01<00:00,  3.63it/s, acc=94.7]\n",
            "CLF Val Ep 13/20: 100%|██████████| 100/100 [00:08<00:00, 12.09it/s, acc=88.8]\n"
          ]
        },
        {
          "output_type": "stream",
          "name": "stdout",
          "text": [
            "Epoch 13/20: Train Acc 94.72% | Val Acc 88.75% (Best: 90.88%)\n"
          ]
        },
        {
          "output_type": "stream",
          "name": "stderr",
          "text": [
            "CLF Train Ep 14/20: 100%|██████████| 440/440 [02:01<00:00,  3.63it/s, acc=96.2]\n",
            "CLF Val Ep 14/20: 100%|██████████| 100/100 [00:08<00:00, 12.11it/s, acc=88.2]\n"
          ]
        },
        {
          "output_type": "stream",
          "name": "stdout",
          "text": [
            "Epoch 14/20: Train Acc 96.19% | Val Acc 88.25% (Best: 90.88%)\n"
          ]
        },
        {
          "output_type": "stream",
          "name": "stderr",
          "text": [
            "CLF Train Ep 15/20: 100%|██████████| 440/440 [02:01<00:00,  3.63it/s, acc=98.1]\n",
            "CLF Val Ep 15/20: 100%|██████████| 100/100 [00:08<00:00, 11.28it/s, acc=90]\n"
          ]
        },
        {
          "output_type": "stream",
          "name": "stdout",
          "text": [
            "Epoch 15/20: Train Acc 98.07% | Val Acc 90.00% (Best: 90.88%)\n"
          ]
        },
        {
          "output_type": "stream",
          "name": "stderr",
          "text": [
            "CLF Train Ep 16/20: 100%|██████████| 440/440 [02:01<00:00,  3.63it/s, acc=98.5]\n",
            "CLF Val Ep 16/20: 100%|██████████| 100/100 [00:07<00:00, 12.57it/s, acc=90.1]\n"
          ]
        },
        {
          "output_type": "stream",
          "name": "stdout",
          "text": [
            "Epoch 16/20: Train Acc 98.52% | Val Acc 90.12% (Best: 90.88%)\n"
          ]
        },
        {
          "output_type": "stream",
          "name": "stderr",
          "text": [
            "CLF Train Ep 17/20: 100%|██████████| 440/440 [02:01<00:00,  3.63it/s, acc=98.7]\n",
            "CLF Val Ep 17/20: 100%|██████████| 100/100 [00:08<00:00, 11.32it/s, acc=90.4]\n"
          ]
        },
        {
          "output_type": "stream",
          "name": "stdout",
          "text": [
            "Epoch 17/20: Train Acc 98.69% | Val Acc 90.38% (Best: 90.88%)\n"
          ]
        },
        {
          "output_type": "stream",
          "name": "stderr",
          "text": [
            "CLF Train Ep 18/20: 100%|██████████| 440/440 [02:00<00:00,  3.64it/s, acc=99.2]\n",
            "CLF Val Ep 18/20: 100%|██████████| 100/100 [00:08<00:00, 12.27it/s, acc=89.9]\n"
          ]
        },
        {
          "output_type": "stream",
          "name": "stdout",
          "text": [
            "Epoch 18/20: Train Acc 99.20% | Val Acc 89.88% (Best: 90.88%)\n"
          ]
        },
        {
          "output_type": "stream",
          "name": "stderr",
          "text": [
            "CLF Train Ep 19/20: 100%|██████████| 440/440 [02:00<00:00,  3.65it/s, acc=99.2]\n",
            "CLF Val Ep 19/20: 100%|██████████| 100/100 [00:08<00:00, 11.87it/s, acc=90.6]\n"
          ]
        },
        {
          "output_type": "stream",
          "name": "stdout",
          "text": [
            "Epoch 19/20: Train Acc 99.23% | Val Acc 90.62% (Best: 90.88%)\n"
          ]
        },
        {
          "output_type": "stream",
          "name": "stderr",
          "text": [
            "CLF Train Ep 20/20: 100%|██████████| 440/440 [02:00<00:00,  3.65it/s, acc=99.3]\n",
            "CLF Val Ep 20/20: 100%|██████████| 100/100 [00:08<00:00, 11.23it/s, acc=90]"
          ]
        },
        {
          "output_type": "stream",
          "name": "stdout",
          "text": [
            "Epoch 20/20: Train Acc 99.32% | Val Acc 90.00% (Best: 90.88%)\n",
            "\n",
            "Fine-tuning complete.\n"
          ]
        },
        {
          "output_type": "stream",
          "name": "stderr",
          "text": [
            "\n"
          ]
        }
      ]
    },
    {
      "cell_type": "code",
      "source": [
        "# ----------------------------------------------------\n",
        "# Plot Finetuning metrices\n",
        "# ----------------------------------------------------\n",
        "plt.figure(figsize=(12,4))\n",
        "plt.subplot(1,2,1)\n",
        "plt.plot(train_losses,label='train')\n",
        "plt.plot(test_losses,label='test')\n",
        "plt.title('Loss'); plt.legend(); plt.grid()\n",
        "\n",
        "plt.subplot(1,2,2)\n",
        "plt.plot(train_accs,label='train')\n",
        "plt.plot(test_accs,label='test')\n",
        "plt.title('Accuracy'); plt.legend(); plt.grid()\n",
        "\n",
        "plt.tight_layout()\n",
        "plt.show()"
      ],
      "metadata": {
        "colab": {
          "base_uri": "https://localhost:8080/",
          "height": 256
        },
        "id": "bPkOBJhLY8-4",
        "outputId": "fe572610-5c1b-4e5a-a203-b5a6da4e9f18"
      },
      "execution_count": 17,
      "outputs": [
        {
          "output_type": "display_data",
          "data": {
            "text/plain": [
              "<Figure size 1200x400 with 2 Axes>"
            ],
            "image/png": "[encoded data removed]"
          },
          "metadata": {}
        }
      ]
    },
    {
      "cell_type": "code",
      "source": [
        "# ----------------------------------------------------\n",
        "# Final Evaluation\n",
        "# ----------------------------------------------------\n",
        "print(\"\\n--- Final Evaluation on Test Set ---\")\n",
        "# Load the best performing model\n",
        "clf.load_state_dict(torch.load(os.path.join(SAVE_DIR, \"best_spatiotemporal_classifier.pt\")))\n",
        "clf.eval()\n",
        "\n",
        "all_preds = []\n",
        "all_labels = []\n",
        "\n",
        "with torch.no_grad():\n",
        "    for imgs, labels in tqdm(test_loader, desc=\"Evaluating best model\"):\n",
        "        imgs = imgs.to(device)\n",
        "        labels = labels.squeeze(1)\n",
        "\n",
        "        with autocast(enabled=(device.type == \"cuda\")):\n",
        "            logits = clf(imgs)\n",
        "\n",
        "        all_preds.append(logits.argmax(1).cpu())\n",
        "        all_labels.append(labels.cpu())\n",
        "\n",
        "all_preds = torch.cat(all_preds).numpy()\n",
        "all_labels = torch.cat(all_labels).numpy()\n",
        "\n",
        "# Print Classification Report\n",
        "print(\"\\nClassification Report:\")\n",
        "print(classification_report(all_labels, all_preds, target_names=['Class 0', 'Class 1']))\n",
        "\n",
        "# Display Confusion Matrix\n",
        "print(\"\\nConfusion Matrix:\")\n",
        "cm = confusion_matrix(all_labels, all_preds)\n",
        "disp = ConfusionMatrixDisplay(confusion_matrix=cm, display_labels=['Class 0', 'Class 1'])\n",
        "disp.plot(cmap='Blues')\n",
        "plt.show()"
      ],
      "metadata": {
        "colab": {
          "base_uri": "https://localhost:8080/",
          "height": 781
        },
        "id": "kUHkd3ks1wFp",
        "outputId": "424fe702-8eb1-45bc-d036-f6de4d8a9819"
      },
      "execution_count": 22,
      "outputs": [
        {
          "output_type": "stream",
          "name": "stdout",
          "text": [
            "\n",
            "--- Final Evaluation on Test Set ---\n"
          ]
        },
        {
          "output_type": "stream",
          "name": "stderr",
          "text": [
            "Evaluating best model:   0%|          | 0/100 [00:00<?, ?it/s]/tmp/ipython-input-22-899610738.py:17: FutureWarning: `torch.cuda.amp.autocast(args...)` is deprecated. Please use `torch.amp.autocast('cuda', args...)` instead.\n",
            "  with autocast(enabled=(device.type == \"cuda\")):\n",
            "Evaluating best model: 100%|██████████| 100/100 [00:11<00:00,  8.58it/s]\n"
          ]
        },
        {
          "output_type": "stream",
          "name": "stdout",
          "text": [
            "\n",
            "Classification Report:\n",
            "              precision    recall  f1-score   support\n",
            "\n",
            "     Class 0       0.87      0.97      0.91       400\n",
            "     Class 1       0.96      0.85      0.90       400\n",
            "\n",
            "    accuracy                           0.91       800\n",
            "   macro avg       0.91      0.91      0.91       800\n",
            "weighted avg       0.91      0.91      0.91       800\n",
            "\n",
            "\n",
            "Confusion Matrix:\n"
          ]
        },
        {
          "output_type": "display_data",
          "data": {
            "text/plain": [
              "<Figure size 640x480 with 2 Axes>"
            ],
            "image/png": "[encoded data removed]"
          },
          "metadata": {}
        }
      ]
    }
  ]
}